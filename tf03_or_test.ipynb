{
  "nbformat": 4,
  "nbformat_minor": 0,
  "metadata": {
    "colab": {
      "name": "tf03_or_test.ipynb",
      "provenance": [],
      "collapsed_sections": [],
      "authorship_tag": "ABX9TyP8vAwSukYjp88198CBtOYU",
      "include_colab_link": true
    },
    "kernelspec": {
      "name": "python3",
      "display_name": "Python 3"
    }
  },
  "cells": [
    {
      "cell_type": "markdown",
      "metadata": {
        "id": "view-in-github",
        "colab_type": "text"
      },
      "source": [
        "<a href=\"https://colab.research.google.com/github/tsbslteisrhy/Bigdata/blob/master/tf03_or_test.ipynb\" target=\"_parent\"><img src=\"https://colab.research.google.com/assets/colab-badge.svg\" alt=\"Open In Colab\"/></a>"
      ]
    },
    {
      "cell_type": "code",
      "metadata": {
        "id": "vjr_TRyEQF5R",
        "colab_type": "code",
        "colab": {}
      },
      "source": [
        "\"\"\"\n",
        "날짜 : 2020/08/18\n",
        "이름 : 유효진\n",
        "내용 : OR 연산 실습하기\n",
        "\"\"\"\n",
        "import tensorflow as tf\n",
        "import numpy as np\n",
        "from tensorflow.keras.models import Sequential\n",
        "from tensorflow.keras.layers import Dense\n",
        "from tensorflow.keras.optimizers import SGD\n",
        "from tensorflow.keras.losses import mse"
      ],
      "execution_count": null,
      "outputs": []
    },
    {
      "cell_type": "code",
      "metadata": {
        "id": "WrKJUV6KRKdw",
        "colab_type": "code",
        "colab": {}
      },
      "source": [
        "#데이터 준비\n",
        "data = np.array([[0, 0], [0, 1], [1, 0], [1, 1]])\n",
        "label = np.array([[0], [1], [1], [1]])"
      ],
      "execution_count": null,
      "outputs": []
    },
    {
      "cell_type": "code",
      "metadata": {
        "id": "5Ty33GRZRj0o",
        "colab_type": "code",
        "colab": {}
      },
      "source": [
        "#학습모델 설계\n",
        "model = Sequential()\n",
        "model.add(Dense(units=1, input_shape=(2,), activation='linear'))"
      ],
      "execution_count": null,
      "outputs": []
    },
    {
      "cell_type": "code",
      "metadata": {
        "id": "QC1r_KBHSCrw",
        "colab_type": "code",
        "colab": {}
      },
      "source": [
        "#모델 설정\n",
        "model.compile(optimizer=SGD(),\n",
        "              loss=mse,\n",
        "              metrics=['acc'])"
      ],
      "execution_count": null,
      "outputs": []
    },
    {
      "cell_type": "code",
      "metadata": {
        "id": "FtSE-mQaSbko",
        "colab_type": "code",
        "colab": {}
      },
      "source": [
        "#학습하기\n",
        "model.fit(data, label, epochs=1000)"
      ],
      "execution_count": null,
      "outputs": []
    },
    {
      "cell_type": "code",
      "metadata": {
        "id": "YjBbfq18Svop",
        "colab_type": "code",
        "colab": {
          "base_uri": "https://localhost:8080/",
          "height": 89
        },
        "outputId": "c76f98c7-4516-451e-e1ec-1dea36a9ed8e"
      },
      "source": [
        "#검증하기\n",
        "result = model.predict(data)\n",
        "result"
      ],
      "execution_count": null,
      "outputs": [
        {
          "output_type": "execute_result",
          "data": {
            "text/plain": [
              "array([[0.23746218],\n",
              "       [0.74714166],\n",
              "       [0.74892324],\n",
              "       [1.2586027 ]], dtype=float32)"
            ]
          },
          "metadata": {
            "tags": []
          },
          "execution_count": 21
        }
      ]
    }
  ]
}