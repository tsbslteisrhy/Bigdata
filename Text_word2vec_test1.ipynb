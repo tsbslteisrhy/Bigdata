{
  "nbformat": 4,
  "nbformat_minor": 0,
  "metadata": {
    "colab": {
      "name": "Text_word2vec_test1.ipynb",
      "provenance": [],
      "collapsed_sections": [],
      "authorship_tag": "ABX9TyN4s+G71/ICNRh8rSt75KLQ",
      "include_colab_link": true
    },
    "kernelspec": {
      "name": "python3",
      "display_name": "Python 3"
    }
  },
  "cells": [
    {
      "cell_type": "markdown",
      "metadata": {
        "id": "view-in-github",
        "colab_type": "text"
      },
      "source": [
        "<a href=\"https://colab.research.google.com/github/tsbslteisrhy/Bigdata/blob/master/Text_word2vec_test1.ipynb\" target=\"_parent\"><img src=\"https://colab.research.google.com/assets/colab-badge.svg\" alt=\"Open In Colab\"/></a>"
      ]
    },
    {
      "cell_type": "code",
      "metadata": {
        "id": "bqsXzVr3NI02",
        "colab_type": "code",
        "colab": {}
      },
      "source": [
        "\"\"\"\n",
        "날짜 : 2020/09/08\n",
        "이름 : 유효진\n",
        "내용 : word2vec 실습하기\n",
        "\"\"\"\n",
        "import nltk\n",
        "from nltk.corpus import movie_reviews\n",
        "from gensim.models.word2vec import Word2Vec\n",
        "\n",
        "nltk.download('movie_reviews')\n",
        "nltk.download('punkt')"
      ],
      "execution_count": null,
      "outputs": []
    },
    {
      "cell_type": "code",
      "metadata": {
        "id": "keevVxU9NbAS",
        "colab_type": "code",
        "colab": {
          "base_uri": "https://localhost:8080/",
          "height": 35
        },
        "outputId": "3f31d55c-ac10-417e-ce0a-167cc84cacee"
      },
      "source": [
        "sentences = [list(s) for s in movie_reviews.sents()]\n",
        "len(sentences)"
      ],
      "execution_count": null,
      "outputs": [
        {
          "output_type": "execute_result",
          "data": {
            "text/plain": [
              "71532"
            ]
          },
          "metadata": {
            "tags": []
          },
          "execution_count": 6
        }
      ]
    },
    {
      "cell_type": "code",
      "metadata": {
        "id": "VZPJNwMcOMnZ",
        "colab_type": "code",
        "colab": {
          "base_uri": "https://localhost:8080/",
          "height": 35
        },
        "outputId": "cb0fa008-da0c-442c-d7da-f1cd7b04a11d"
      },
      "source": [
        "# word2vec 모델생성 (비지도학습)\n",
        "model = Word2Vec(sentences)\n",
        "model"
      ],
      "execution_count": null,
      "outputs": [
        {
          "output_type": "execute_result",
          "data": {
            "text/plain": [
              "<gensim.models.word2vec.Word2Vec at 0x7f68ac66f9b0>"
            ]
          },
          "metadata": {
            "tags": []
          },
          "execution_count": 7
        }
      ]
    },
    {
      "cell_type": "code",
      "metadata": {
        "id": "vQZ-N-BEOx05",
        "colab_type": "code",
        "colab": {
          "base_uri": "https://localhost:8080/",
          "height": 145
        },
        "outputId": "1b2f1d72-739a-42ed-9ee8-02da569992fe"
      },
      "source": [
        "# 단어 연관성 확인\n",
        "v1 = model.wv.similarity('actor', 'actress')\n",
        "v2 = model.wv.similarity('he', 'she')\n",
        "v3 = model.wv.most_similar('father')\n",
        "v4 = model.wv.most_similar(positive=['woman', 'king'],\n",
        "                           negative=['man'])\n",
        "\n",
        "print('v1 :', v1)\n",
        "print('v2 :', v2)\n",
        "print('v3 :', v3)\n",
        "print('v4 :', v4)"
      ],
      "execution_count": null,
      "outputs": [
        {
          "output_type": "stream",
          "text": [
            "v1 : 0.8779898\n",
            "v2 : 0.8701852\n",
            "v3 : [('mother', 0.9679484367370605), ('wife', 0.9664108753204346), ('son', 0.9560838937759399), ('daughter', 0.9466904401779175), ('girlfriend', 0.9276490807533264), ('husband', 0.9229251146316528), ('brother', 0.9194203615188599), ('sister', 0.9033272862434387), ('boyfriend', 0.8920756578445435), ('partner', 0.887243926525116)]\n",
            "v4 : [('stewart', 0.8533279895782471), ('danny', 0.8480647802352905), ('newman', 0.8408660888671875), ('queen', 0.838982343673706), ('frank', 0.8383659720420837), ('hall', 0.8358145356178284), ('neil', 0.8341490030288696), ('tim', 0.8313120603561401), ('catherine', 0.8308941721916199), ('patrick', 0.8298903703689575)]\n"
          ],
          "name": "stdout"
        },
        {
          "output_type": "stream",
          "text": [
            "/usr/local/lib/python3.6/dist-packages/gensim/matutils.py:737: FutureWarning: Conversion of the second argument of issubdtype from `int` to `np.signedinteger` is deprecated. In future, it will be treated as `np.int64 == np.dtype(int).type`.\n",
            "  if np.issubdtype(vec.dtype, np.int):\n"
          ],
          "name": "stderr"
        }
      ]
    }
  ]
}