{
  "nbformat": 4,
  "nbformat_minor": 0,
  "metadata": {
    "colab": {
      "name": "tf08_cifar_cnn_test.ipynb",
      "provenance": [],
      "collapsed_sections": [],
      "authorship_tag": "ABX9TyOlpZ7nnvv4sAb0DDtC3kng",
      "include_colab_link": true
    },
    "kernelspec": {
      "name": "python3",
      "display_name": "Python 3"
    },
    "accelerator": "GPU"
  },
  "cells": [
    {
      "cell_type": "markdown",
      "metadata": {
        "id": "view-in-github",
        "colab_type": "text"
      },
      "source": [
        "<a href=\"https://colab.research.google.com/github/tsbslteisrhy/Bigdata/blob/master/tf08_cifar_cnn_test.ipynb\" target=\"_parent\"><img src=\"https://colab.research.google.com/assets/colab-badge.svg\" alt=\"Open In Colab\"/></a>"
      ]
    },
    {
      "cell_type": "code",
      "metadata": {
        "id": "d9lbMpUwdHl0",
        "colab_type": "code",
        "colab": {}
      },
      "source": [
        "\"\"\"\n",
        "날짜 : 2020/08/19\n",
        "이름 : 유효진\n",
        "내용 : 딥러닝 cifar10 CNN 이미지 분류 실습하기\n",
        "\"\"\"\n",
        "import matplotlib.pyplot as plt\n",
        "import numpy as np\n",
        "from tensorflow.keras.datasets.cifar10 import load_data\n",
        "from tensorflow.keras.utils import to_categorical\n",
        "from tensorflow.keras.models import Sequential\n",
        "from tensorflow.keras.layers import Dense, Flatten, Conv2D, MaxPool2D, Dropout\n",
        "from sklearn.model_selection import train_test_split\n",
        "from PIL import Image #파이썬 이미지 처리 라이브러리"
      ],
      "execution_count": null,
      "outputs": []
    },
    {
      "cell_type": "code",
      "metadata": {
        "id": "6MFjAy8ndj70",
        "colab_type": "code",
        "colab": {
          "base_uri": "https://localhost:8080/",
          "height": 215
        },
        "outputId": "54749039-fcfb-42f5-a269-453562856ff0"
      },
      "source": [
        "#학습데이터 로드 (fit: 60000개/predict:10000개 데이터 분할)\n",
        "(cifar_train_data, cifar_train_label), (cifar_test_data, cifar_test_label) = load_data()\n",
        "\n",
        "#데이터 형태 확인\n",
        "print(cifar_train_data.shape, cifar_train_label.shape)\n",
        "print(cifar_test_data.shape, cifar_test_label.shape)\n",
        "print(cifar_train_label)"
      ],
      "execution_count": null,
      "outputs": [
        {
          "output_type": "stream",
          "text": [
            "Downloading data from https://www.cs.toronto.edu/~kriz/cifar-10-python.tar.gz\n",
            "170500096/170498071 [==============================] - 6s 0us/step\n",
            "(50000, 32, 32, 3) (50000, 1)\n",
            "(10000, 32, 32, 3) (10000, 1)\n",
            "[[6]\n",
            " [9]\n",
            " [9]\n",
            " ...\n",
            " [9]\n",
            " [1]\n",
            " [1]]\n"
          ],
          "name": "stdout"
        }
      ]
    },
    {
      "cell_type": "code",
      "metadata": {
        "id": "xvKZkuIydkHr",
        "colab_type": "code",
        "colab": {}
      },
      "source": [
        "#데이터 샘플 이미지 출력\n",
        "class_names = ['Airplane', 'Automobile', 'Bird', 'Cat', 'Deer', 'Dog', 'Frog', 'Horse', 'Ship', 'Truck']\n",
        "random_idx = np.random.randint(50000, size=9)\n",
        "print(random_idx)\n",
        "\n",
        "plt.figure(figsize=(5, 5))\n",
        "\n",
        "for i, idx in enumerate(random_idx):\n",
        "  plt.subplot(3, 3, i+1)\n",
        "  plt.xticks([])\n",
        "  plt.yticks([])\n",
        "  label = cifar_train_label[idx][0]\n",
        "  plt.imshow(cifar_train_data[idx, :])\n",
        "  plt.title('%s' % class_names[label])"
      ],
      "execution_count": null,
      "outputs": []
    },
    {
      "cell_type": "code",
      "metadata": {
        "id": "AQLAPWKfdkNz",
        "colab_type": "code",
        "colab": {
          "base_uri": "https://localhost:8080/",
          "height": 53
        },
        "outputId": "2ac89d45-e971-400d-a08e-0e578f7d4d72"
      },
      "source": [
        "#데이터셋 분할하기\n",
        "train_data, test_data, train_label, test_label = train_test_split(cifar_train_data, cifar_train_label)\n",
        "print('훈련 데이터 :', train_data.shape)\n",
        "print('검증 데이터 :', test_data.shape)"
      ],
      "execution_count": null,
      "outputs": [
        {
          "output_type": "stream",
          "text": [
            "훈련 데이터 : (37500, 32, 32, 3)\n",
            "검증 데이터 : (12500, 32, 32, 3)\n"
          ],
          "name": "stdout"
        }
      ]
    },
    {
      "cell_type": "code",
      "metadata": {
        "id": "RoOfCgqhdkRb",
        "colab_type": "code",
        "colab": {}
      },
      "source": [
        "#모델학습을 위한 데이터 전처리(정규화)\n",
        "\n",
        "# 방법1: 픽셀데이터를 0 ~ 1 사이로 초기화하는 정규화 -> 정확도 낮음\n",
        "#train_data = train_data / 255\n",
        "#test_data = test_data / 255\n",
        "#mnist_test_data = mnist_test_data / 255\n",
        "\n",
        "# 방법2: 픽셀데이터를 평균과 표준편차를 이용한 정규화 -> 정확도 높음\n",
        "mean = np.mean(train_data, axis=(0, 1, 2))\n",
        "std = np.std(train_data, axis=(0, 1, 2))\n",
        "\n",
        "train_data = (train_data - mean) / std\n",
        "test_data = (test_data - mean) / std\n",
        "cifar_test_data = (cifar_test_data - mean) / std\n",
        "\n",
        "#각 데이터의 레이블을 범주형(One-hot encoding) 형태로 변환\n",
        "train_label = to_categorical(train_label)\n",
        "test_label = to_categorical(test_label)\n",
        "cifar_test_label = to_categorical(cifar_test_label) "
      ],
      "execution_count": null,
      "outputs": []
    },
    {
      "cell_type": "code",
      "metadata": {
        "id": "izd5p2RtdkWJ",
        "colab_type": "code",
        "colab": {
          "base_uri": "https://localhost:8080/",
          "height": 701
        },
        "outputId": "baf3c00b-decc-4c5e-8096-8c1840fd2692"
      },
      "source": [
        "#학습모델 구성하기\n",
        "model = Sequential()\n",
        "\n",
        "#CNN층 \n",
        "# kernel_size : 합성곱 연산 수행하는 행렬\n",
        "# filters : 32 * 32 이미지와 동일한 필터\n",
        "# padding : 이미지 바깥으로 0를 채워넣음\n",
        "# pool_size : 가로 2, 세로 2 중에서 가장 큰 수 추출\n",
        "model.add(Conv2D(filters=32, kernel_size=3, padding='same', activation='relu', input_shape=(32, 32, 3)))\n",
        "model.add(Conv2D(filters=32, kernel_size=3, padding='same', activation='relu'))\n",
        "model.add(MaxPool2D(pool_size=(2, 2), strides=2, padding='same'))\n",
        "model.add(Dropout(0.2))\n",
        "\n",
        "model.add(Conv2D(filters=64, kernel_size=3, padding='same', activation='relu'))\n",
        "model.add(Conv2D(filters=64, kernel_size=3, padding='same', activation='relu'))\n",
        "model.add(MaxPool2D(pool_size=(2, 2), strides=2, padding='same'))\n",
        "model.add(Dropout(0.2))\n",
        "\n",
        "model.add(Conv2D(filters=128, kernel_size=3, padding='same', activation='relu'))\n",
        "model.add(Conv2D(filters=128, kernel_size=3, padding='same', activation='relu'))\n",
        "model.add(MaxPool2D(pool_size=(2, 2), strides=2, padding='same'))\n",
        "model.add(Dropout(0.2))\n",
        "\n",
        "#FCNN(Full Connection Neural Network, 완전 연결층)\n",
        "model.add(Flatten())                          #입력층\n",
        "model.add(Dense(256, activation='relu'))      #은닉층\n",
        "model.add(Dense(10, activation='softmax'))    #출력층\n",
        "\n",
        "#모델 요약 확인\n",
        "model.summary()"
      ],
      "execution_count": null,
      "outputs": [
        {
          "output_type": "stream",
          "text": [
            "Model: \"sequential_1\"\n",
            "_________________________________________________________________\n",
            "Layer (type)                 Output Shape              Param #   \n",
            "=================================================================\n",
            "conv2d_6 (Conv2D)            (None, 32, 32, 32)        896       \n",
            "_________________________________________________________________\n",
            "conv2d_7 (Conv2D)            (None, 32, 32, 32)        9248      \n",
            "_________________________________________________________________\n",
            "max_pooling2d_3 (MaxPooling2 (None, 16, 16, 32)        0         \n",
            "_________________________________________________________________\n",
            "dropout (Dropout)            (None, 16, 16, 32)        0         \n",
            "_________________________________________________________________\n",
            "conv2d_8 (Conv2D)            (None, 16, 16, 64)        18496     \n",
            "_________________________________________________________________\n",
            "conv2d_9 (Conv2D)            (None, 16, 16, 64)        36928     \n",
            "_________________________________________________________________\n",
            "max_pooling2d_4 (MaxPooling2 (None, 8, 8, 64)          0         \n",
            "_________________________________________________________________\n",
            "dropout_1 (Dropout)          (None, 8, 8, 64)          0         \n",
            "_________________________________________________________________\n",
            "conv2d_10 (Conv2D)           (None, 8, 8, 128)         73856     \n",
            "_________________________________________________________________\n",
            "conv2d_11 (Conv2D)           (None, 8, 8, 128)         147584    \n",
            "_________________________________________________________________\n",
            "max_pooling2d_5 (MaxPooling2 (None, 4, 4, 128)         0         \n",
            "_________________________________________________________________\n",
            "dropout_2 (Dropout)          (None, 4, 4, 128)         0         \n",
            "_________________________________________________________________\n",
            "flatten_1 (Flatten)          (None, 2048)              0         \n",
            "_________________________________________________________________\n",
            "dense_2 (Dense)              (None, 256)               524544    \n",
            "_________________________________________________________________\n",
            "dense_3 (Dense)              (None, 10)                2570      \n",
            "=================================================================\n",
            "Total params: 814,122\n",
            "Trainable params: 814,122\n",
            "Non-trainable params: 0\n",
            "_________________________________________________________________\n"
          ],
          "name": "stdout"
        }
      ]
    },
    {
      "cell_type": "code",
      "metadata": {
        "id": "frvG7SSHdkbS",
        "colab_type": "code",
        "colab": {}
      },
      "source": [
        "#학습모델 설정하기\n",
        "model.compile(optimizer='adam',\n",
        "              loss='categorical_crossentropy',\n",
        "              metrics=['acc'])"
      ],
      "execution_count": null,
      "outputs": []
    },
    {
      "cell_type": "code",
      "metadata": {
        "id": "xBrmi-nxdkgh",
        "colab_type": "code",
        "colab": {
          "base_uri": "https://localhost:8080/",
          "height": 755
        },
        "outputId": "56b93585-bae1-45e7-c3cc-31c2d41def50"
      },
      "source": [
        "#학습하기\n",
        "model.fit(train_data,\n",
        "          train_label,\n",
        "          epochs=20,\n",
        "          batch_size=32,\n",
        "          validation_data=(test_data, test_label))"
      ],
      "execution_count": null,
      "outputs": [
        {
          "output_type": "stream",
          "text": [
            "Epoch 1/20\n",
            "1172/1172 [==============================] - 16s 14ms/step - loss: 1.5176 - acc: 0.4378 - val_loss: 1.1745 - val_acc: 0.5744\n",
            "Epoch 2/20\n",
            "1172/1172 [==============================] - 16s 13ms/step - loss: 1.0513 - acc: 0.6208 - val_loss: 0.9558 - val_acc: 0.6646\n",
            "Epoch 3/20\n",
            "1172/1172 [==============================] - 16s 14ms/step - loss: 0.8658 - acc: 0.6938 - val_loss: 0.8553 - val_acc: 0.7080\n",
            "Epoch 4/20\n",
            "1172/1172 [==============================] - 16s 14ms/step - loss: 0.7731 - acc: 0.7270 - val_loss: 0.7376 - val_acc: 0.7438\n",
            "Epoch 5/20\n",
            "1172/1172 [==============================] - 16s 13ms/step - loss: 0.6883 - acc: 0.7569 - val_loss: 0.7243 - val_acc: 0.7420\n",
            "Epoch 6/20\n",
            "1172/1172 [==============================] - 16s 14ms/step - loss: 0.6342 - acc: 0.7766 - val_loss: 0.7426 - val_acc: 0.7427\n",
            "Epoch 7/20\n",
            "1172/1172 [==============================] - 16s 14ms/step - loss: 0.5928 - acc: 0.7919 - val_loss: 0.7671 - val_acc: 0.7479\n",
            "Epoch 8/20\n",
            "1172/1172 [==============================] - 16s 14ms/step - loss: 0.5537 - acc: 0.8050 - val_loss: 0.7291 - val_acc: 0.7494\n",
            "Epoch 9/20\n",
            "1172/1172 [==============================] - 17s 14ms/step - loss: 0.5130 - acc: 0.8183 - val_loss: 0.7307 - val_acc: 0.7571\n",
            "Epoch 10/20\n",
            "1172/1172 [==============================] - 16s 14ms/step - loss: 0.4957 - acc: 0.8246 - val_loss: 0.7010 - val_acc: 0.7708\n",
            "Epoch 11/20\n",
            "1172/1172 [==============================] - 16s 13ms/step - loss: 0.4695 - acc: 0.8346 - val_loss: 0.6847 - val_acc: 0.7714\n",
            "Epoch 12/20\n",
            "1172/1172 [==============================] - 16s 14ms/step - loss: 0.4491 - acc: 0.8418 - val_loss: 0.7630 - val_acc: 0.7613\n",
            "Epoch 13/20\n",
            "1172/1172 [==============================] - 16s 14ms/step - loss: 0.4322 - acc: 0.8455 - val_loss: 0.7670 - val_acc: 0.7610\n",
            "Epoch 14/20\n",
            "1172/1172 [==============================] - 16s 14ms/step - loss: 0.4097 - acc: 0.8544 - val_loss: 0.7687 - val_acc: 0.7636\n",
            "Epoch 15/20\n",
            "1172/1172 [==============================] - 16s 14ms/step - loss: 0.4099 - acc: 0.8555 - val_loss: 0.7664 - val_acc: 0.7646\n",
            "Epoch 16/20\n",
            "1172/1172 [==============================] - 16s 14ms/step - loss: 0.3864 - acc: 0.8635 - val_loss: 0.7759 - val_acc: 0.7680\n",
            "Epoch 17/20\n",
            "1172/1172 [==============================] - 16s 13ms/step - loss: 0.3822 - acc: 0.8647 - val_loss: 0.7631 - val_acc: 0.7732\n",
            "Epoch 18/20\n",
            "1172/1172 [==============================] - 16s 13ms/step - loss: 0.3646 - acc: 0.8716 - val_loss: 0.7679 - val_acc: 0.7728\n",
            "Epoch 19/20\n",
            "1172/1172 [==============================] - 16s 14ms/step - loss: 0.3547 - acc: 0.8754 - val_loss: 0.8251 - val_acc: 0.7688\n",
            "Epoch 20/20\n",
            "1172/1172 [==============================] - 16s 14ms/step - loss: 0.3541 - acc: 0.8753 - val_loss: 0.8852 - val_acc: 0.7530\n"
          ],
          "name": "stdout"
        },
        {
          "output_type": "execute_result",
          "data": {
            "text/plain": [
              "<tensorflow.python.keras.callbacks.History at 0x7fc7a01b9e80>"
            ]
          },
          "metadata": {
            "tags": []
          },
          "execution_count": 11
        }
      ]
    },
    {
      "cell_type": "code",
      "metadata": {
        "id": "9cvjNtaHdklI",
        "colab_type": "code",
        "colab": {
          "base_uri": "https://localhost:8080/",
          "height": 53
        },
        "outputId": "59784739-a6df-403e-c146-f33caba9821e"
      },
      "source": [
        "#평가하기\n",
        "#학습할 때의 정확도와 평가할때 정확도가 차이나면 과적합을 의심 -> dropout 기법\n",
        "model.evaluate(cifar_test_data, cifar_test_label)"
      ],
      "execution_count": null,
      "outputs": [
        {
          "output_type": "stream",
          "text": [
            "313/313 [==============================] - 2s 6ms/step - loss: 0.8773 - acc: 0.7573\n"
          ],
          "name": "stdout"
        },
        {
          "output_type": "execute_result",
          "data": {
            "text/plain": [
              "[0.8773188591003418, 0.7573000192642212]"
            ]
          },
          "metadata": {
            "tags": []
          },
          "execution_count": 12
        }
      ]
    },
    {
      "cell_type": "code",
      "metadata": {
        "id": "7wE0NgiAdkpj",
        "colab_type": "code",
        "colab": {
          "base_uri": "https://localhost:8080/",
          "height": 35
        },
        "outputId": "05894704-0d42-450c-f99e-5ef9eae78078"
      },
      "source": [
        "#테스트하기\n",
        "result = model.predict(cifar_test_data)\n",
        "\n",
        "from sklearn.metrics import accuracy_score\n",
        "score = accuracy_score(result.round(), cifar_test_label)\n",
        "print('점수 :', score)"
      ],
      "execution_count": null,
      "outputs": [
        {
          "output_type": "stream",
          "text": [
            "점수 : 0.7359\n"
          ],
          "name": "stdout"
        }
      ]
    }
  ]
}