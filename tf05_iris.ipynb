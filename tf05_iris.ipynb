{
  "nbformat": 4,
  "nbformat_minor": 0,
  "metadata": {
    "colab": {
      "name": "tf05_iris.ipynb",
      "provenance": [],
      "collapsed_sections": [],
      "authorship_tag": "ABX9TyOJAU/v1LCctg0vv1Ybjxfb",
      "include_colab_link": true
    },
    "kernelspec": {
      "name": "python3",
      "display_name": "Python 3"
    }
  },
  "cells": [
    {
      "cell_type": "markdown",
      "metadata": {
        "id": "view-in-github",
        "colab_type": "text"
      },
      "source": [
        "<a href=\"https://colab.research.google.com/github/tsbslteisrhy/Bigdata/blob/master/tf05_iris.ipynb\" target=\"_parent\"><img src=\"https://colab.research.google.com/assets/colab-badge.svg\" alt=\"Open In Colab\"/></a>"
      ]
    },
    {
      "cell_type": "code",
      "metadata": {
        "id": "ZFjGP_GbbuBW",
        "colab_type": "code",
        "colab": {}
      },
      "source": [
        "\"\"\"\n",
        "날짜 : 2020/08/18\n",
        "이름 : 유효진\n",
        "내용 : iris 딥러닝 실습하기\n",
        "\"\"\"\n",
        "import tensorflow as tf\n",
        "import numpy as np\n",
        "import pandas as pd\n",
        "from tensorflow.keras.models import Sequential\n",
        "from tensorflow.keras.layers import Dense\n",
        "from tensorflow.keras.optimizers import Adam\n",
        "from tensorflow.keras.losses import mse\n",
        "from tensorflow.keras.utils import to_categorical\n",
        "from sklearn.preprocessing import LabelEncoder\n",
        "from sklearn.model_selection import train_test_split"
      ],
      "execution_count": null,
      "outputs": []
    },
    {
      "cell_type": "code",
      "metadata": {
        "id": "L5Aur9ftb8m1",
        "colab_type": "code",
        "colab": {
          "base_uri": "https://localhost:8080/",
          "height": 35
        },
        "outputId": "78ad1d10-6ab9-4d26-9605-15b2d5a083c9"
      },
      "source": [
        "#구글 드라이브 연동\n",
        "from google.colab import drive\n",
        "drive.mount('/content/drive')\n"
      ],
      "execution_count": null,
      "outputs": [
        {
          "output_type": "stream",
          "text": [
            "Drive already mounted at /content/drive; to attempt to forcibly remount, call drive.mount(\"/content/drive\", force_remount=True).\n"
          ],
          "name": "stdout"
        }
      ]
    },
    {
      "cell_type": "code",
      "metadata": {
        "id": "_zi6QGNueHHq",
        "colab_type": "code",
        "colab": {}
      },
      "source": [
        "#학습데이터 로드하기\n",
        "df_iris = pd.read_csv('/content/drive/My Drive/Tensorflow_works/data/iris.csv')\n",
        "df_iris"
      ],
      "execution_count": null,
      "outputs": []
    },
    {
      "cell_type": "code",
      "metadata": {
        "id": "h7gMUhvgeOxB",
        "colab_type": "code",
        "colab": {}
      },
      "source": [
        "#데이터셋 가공\n",
        "df_iris_data = df_iris.iloc[:, 0:4]\n",
        "df_iris_label = df_iris.iloc[:, 4]"
      ],
      "execution_count": null,
      "outputs": []
    },
    {
      "cell_type": "code",
      "metadata": {
        "id": "LqDW9NFxe4gA",
        "colab_type": "code",
        "colab": {}
      },
      "source": [
        "#원-핫 인코딩(문자열로 된 label을 0과 1로 부호화)으로 변환\n",
        "encoder = LabelEncoder()\n",
        "encoder.fit(df_iris_label)\n",
        "transformed_label = encoder.transform(df_iris_label)\n",
        "df_iris_label_cate = to_categorical(transformed_label)"
      ],
      "execution_count": null,
      "outputs": []
    },
    {
      "cell_type": "code",
      "metadata": {
        "id": "9n38TObNm8EP",
        "colab_type": "code",
        "colab": {}
      },
      "source": [
        "#학습데이터 가공데이터 분류\n",
        "train_data, test_data, train_label, test_label = train_test_split(df_iris_data, df_iris_label_cate)"
      ],
      "execution_count": null,
      "outputs": []
    },
    {
      "cell_type": "code",
      "metadata": {
        "id": "Hk9VrbFKgexG",
        "colab_type": "code",
        "colab": {}
      },
      "source": [
        "#학습모델 구성하기\n",
        "model = Sequential()\n",
        "model.add(Dense(units=4, input_dim=4, activation='sigmoid'))\n",
        "model.add(Dense(units=3, activation='sigmoid'))"
      ],
      "execution_count": null,
      "outputs": []
    },
    {
      "cell_type": "code",
      "metadata": {
        "id": "Ewp_WaMhhUvv",
        "colab_type": "code",
        "colab": {}
      },
      "source": [
        "#학습모델 설정\n",
        "# loss='mean_squared_error' : 수치예층\n",
        "# loss='categorical_crossentropy' : 다중분류\n",
        "# loss='binary_crossentropy' : 이진분류\n",
        "model.compile(optimizer='Adam',\n",
        "              loss='categorical_crossentropy',\n",
        "              metrics=['acc'])"
      ],
      "execution_count": null,
      "outputs": []
    },
    {
      "cell_type": "code",
      "metadata": {
        "id": "8bMyPSGGiPYd",
        "colab_type": "code",
        "colab": {}
      },
      "source": [
        "#모델학습\n",
        "model.fit(df_iris_data, df_iris_label_cate, epochs=1000)"
      ],
      "execution_count": null,
      "outputs": []
    },
    {
      "cell_type": "code",
      "metadata": {
        "id": "scGmzQ6GisZ1",
        "colab_type": "code",
        "colab": {
          "base_uri": "https://localhost:8080/",
          "height": 53
        },
        "outputId": "ac1dafdf-e716-4087-8876-bb6329e4fa13"
      },
      "source": [
        "#검증하기 - result : [손실율, 정답률]\n",
        "result = model.evaluate(test_data, test_label)\n",
        "result"
      ],
      "execution_count": null,
      "outputs": [
        {
          "output_type": "stream",
          "text": [
            "2/2 [==============================] - 0s 2ms/step - loss: 0.0675 - acc: 1.0000\n"
          ],
          "name": "stdout"
        },
        {
          "output_type": "execute_result",
          "data": {
            "text/plain": [
              "[0.06752951443195343, 1.0]"
            ]
          },
          "metadata": {
            "tags": []
          },
          "execution_count": 34
        }
      ]
    }
  ]
}