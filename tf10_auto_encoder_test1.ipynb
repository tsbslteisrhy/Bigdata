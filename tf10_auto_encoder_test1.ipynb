{
  "nbformat": 4,
  "nbformat_minor": 0,
  "metadata": {
    "colab": {
      "name": "tf10_auto_encoder_test1.ipynb",
      "provenance": [],
      "collapsed_sections": [],
      "authorship_tag": "ABX9TyPQigw72kIA7xPNc11jSGcG",
      "include_colab_link": true
    },
    "kernelspec": {
      "name": "python3",
      "display_name": "Python 3"
    },
    "accelerator": "TPU"
  },
  "cells": [
    {
      "cell_type": "markdown",
      "metadata": {
        "id": "view-in-github",
        "colab_type": "text"
      },
      "source": [
        "<a href=\"https://colab.research.google.com/github/tsbslteisrhy/Bigdata/blob/master/tf10_auto_encoder_test1.ipynb\" target=\"_parent\"><img src=\"https://colab.research.google.com/assets/colab-badge.svg\" alt=\"Open In Colab\"/></a>"
      ]
    },
    {
      "cell_type": "code",
      "metadata": {
        "id": "5-Zbb-vsBsMf",
        "colab_type": "code",
        "colab": {}
      },
      "source": [
        "\"\"\"\n",
        "날짜 : 2020/08/25\n",
        "이름 : 유효진\n",
        "내용 : 딥러닝 오토인코더(AutoEncoder) 개념 실습하기\n",
        "\"\"\"\n",
        "import numpy as np\n",
        "import tensorflow as tf\n",
        "import matplotlib.pyplot as plt\n",
        "from tensorflow.keras.layers import Input, Dense\n",
        "from tensorflow.keras.models import Model\n",
        "\n",
        "tf.__version__"
      ],
      "execution_count": null,
      "outputs": []
    },
    {
      "cell_type": "code",
      "metadata": {
        "id": "OGuocRl4DpxZ",
        "colab_type": "code",
        "colab": {}
      },
      "source": [
        "# MNIST 데이터셋 로드\n",
        "(x_train, y_train), (x_test, y_test) = tf.keras.datasets.mnist.load_data()\n",
        "x_train.shape, y_train.shape\n",
        "\n",
        "#x_train[0] : 28 * 28 픽셀데이터 출력\n",
        "#y_train[0] : x_train의 정답 출력"
      ],
      "execution_count": null,
      "outputs": []
    },
    {
      "cell_type": "code",
      "metadata": {
        "id": "o1q7_98JEGbn",
        "colab_type": "code",
        "colab": {}
      },
      "source": [
        "# 데이터 전처리\n",
        "x_train = x_train.reshape(-1, 28 * 28) / 255.0\n",
        "x_test = x_test.reshape(-1, 28 * 28) / 255.0\n",
        "\n",
        "x_train.shape"
      ],
      "execution_count": null,
      "outputs": []
    },
    {
      "cell_type": "code",
      "metadata": {
        "id": "IBKn_r_VFeY3",
        "colab_type": "code",
        "colab": {}
      },
      "source": [
        "# 오토인코더 모델 구성\n",
        "inputs = Input(shape=(784,))\n",
        "hidden = Dense(32, activation='relu')(inputs)\n",
        "outputs = Dense(784, activation='sigmoid')(hidden)\n",
        "\n",
        "auto_encoder = Model(inputs, outputs)\n",
        "auto_encoder.summary()"
      ],
      "execution_count": null,
      "outputs": []
    },
    {
      "cell_type": "code",
      "metadata": {
        "id": "pZllJiNeGYiO",
        "colab_type": "code",
        "colab": {}
      },
      "source": [
        "# 모델 설정/학습하기\n",
        "auto_encoder.compile(optimizer='adam', loss='binary_crossentropy')\n",
        "\n",
        "#비지도학습 (문제-정답이 아니라 문제-문제: 원본이미지에 대해 원본이미지가 출력될 수 있도록 가중치 조절)\n",
        "auto_encoder.fit(x_train,\n",
        "                 x_train,\n",
        "                 epochs=20,\n",
        "                 batch_size=256)"
      ],
      "execution_count": null,
      "outputs": []
    },
    {
      "cell_type": "code",
      "metadata": {
        "id": "-ypIhMA_IBJG",
        "colab_type": "code",
        "colab": {
          "base_uri": "https://localhost:8080/",
          "height": 251
        },
        "outputId": "b3ecab63-f43c-41ee-dddb-8f11d99d1914"
      },
      "source": [
        "# 예측하기\n",
        "result = auto_encoder.predict(x_test)\n",
        "result"
      ],
      "execution_count": null,
      "outputs": [
        {
          "output_type": "execute_result",
          "data": {
            "text/plain": [
              "array([[1.54351270e-08, 2.74800449e-09, 9.42302059e-09, ...,\n",
              "        3.77806515e-08, 2.92507374e-09, 1.38887337e-08],\n",
              "       [1.93207828e-11, 2.73680280e-11, 9.33786520e-11, ...,\n",
              "        2.88214353e-12, 1.92901459e-11, 7.55411914e-11],\n",
              "       [3.50708569e-06, 2.95573045e-06, 2.45498290e-06, ...,\n",
              "        7.52763356e-07, 9.20211278e-07, 3.18307957e-06],\n",
              "       ...,\n",
              "       [6.85928419e-13, 5.58119496e-14, 4.49477451e-13, ...,\n",
              "        5.65941933e-13, 2.24856537e-13, 6.85141234e-13],\n",
              "       [1.61366840e-11, 2.81150428e-12, 4.86694192e-12, ...,\n",
              "        1.86310429e-11, 7.39513450e-11, 3.45635812e-11],\n",
              "       [1.52239862e-17, 9.96784650e-18, 8.06214117e-19, ...,\n",
              "        5.70280276e-18, 1.09617406e-18, 1.02456166e-16]], dtype=float32)"
            ]
          },
          "metadata": {
            "tags": []
          },
          "execution_count": 10
        }
      ]
    },
    {
      "cell_type": "code",
      "metadata": {
        "id": "fpTclqwBIdG3",
        "colab_type": "code",
        "colab": {
          "base_uri": "https://localhost:8080/",
          "height": 264
        },
        "outputId": "8e0034ab-8134-4c50-e4da-8b37e930dd14"
      },
      "source": [
        "# 예측값 이미지 출력\n",
        "plt.figure(figsize=(20, 4))\n",
        "\n",
        "for i in range(10):\n",
        "  # original image\n",
        "  ax = plt.subplot(2, 10, i+1)\n",
        "  ax.set_title('original Image')\n",
        "  plt.imshow(x_test[i].reshape(28, 28))\n",
        "  plt.gray()\n",
        "  ax.get_xaxis().set_visible(False)\n",
        "  ax.get_yaxis().set_visible(False)\n",
        "\n",
        "  # result image\n",
        "  ax = plt.subplot(2, 10, i+11)\n",
        "  ax.set_title('result Image')\n",
        "  plt.imshow(result[i].reshape(28, 28))\n",
        "  plt.gray()\n",
        "  ax.get_xaxis().set_visible(False)\n",
        "  ax.get_yaxis().set_visible(False)"
      ],
      "execution_count": null,
      "outputs": [
        {
          "output_type": "display_data",
          "data": {
            "image/png": "[encoded data removed]",
            "text/plain": [
              "<Figure size 1440x288 with 20 Axes>"
            ]
          },
          "metadata": {
            "tags": [],
            "needs_background": "light"
          }
        }
      ]
    }
  ]
}