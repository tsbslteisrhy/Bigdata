{
  "nbformat": 4,
  "nbformat_minor": 0,
  "metadata": {
    "colab": {
      "name": "Text_konlpy_test1.ipynb",
      "provenance": [],
      "collapsed_sections": [],
      "authorship_tag": "ABX9TyP+wKpS79PY92cBxkObmW5F",
      "include_colab_link": true
    },
    "kernelspec": {
      "name": "python3",
      "display_name": "Python 3"
    },
    "accelerator": "GPU"
  },
  "cells": [
    {
      "cell_type": "markdown",
      "metadata": {
        "id": "view-in-github",
        "colab_type": "text"
      },
      "source": [
        "<a href=\"https://colab.research.google.com/github/tsbslteisrhy/Bigdata/blob/master/Text_konlpy_test1.ipynb\" target=\"_parent\"><img src=\"https://colab.research.google.com/assets/colab-badge.svg\" alt=\"Open In Colab\"/></a>"
      ]
    },
    {
      "cell_type": "code",
      "metadata": {
        "id": "47LfCjrZKEut",
        "colab_type": "code",
        "colab": {}
      },
      "source": [
        "pip install konlpy"
      ],
      "execution_count": null,
      "outputs": []
    },
    {
      "cell_type": "code",
      "metadata": {
        "id": "4BbwBPBCJXOl",
        "colab_type": "code",
        "colab": {}
      },
      "source": [
        "\"\"\"\n",
        "날짜 : 2020/09/08\n",
        "이름 : 유효진\n",
        "내용 : konlpy 패키지 형태소 분석 실습하기\n",
        "\"\"\"\n",
        "from konlpy.tag import Okt\n",
        "from konlpy.tag import Kkma"
      ],
      "execution_count": null,
      "outputs": []
    },
    {
      "cell_type": "code",
      "metadata": {
        "id": "Da0avkaIJ6y8",
        "colab_type": "code",
        "colab": {}
      },
      "source": [
        "# 한글 형태소 분석기 생성 \n",
        "okt = Okt() # Twitter 분석기 (Open Korean Text)\n",
        "kkma = Kkma()"
      ],
      "execution_count": null,
      "outputs": []
    },
    {
      "cell_type": "code",
      "metadata": {
        "id": "V1q8GrPzKipi",
        "colab_type": "code",
        "colab": {
          "base_uri": "https://localhost:8080/",
          "height": 53
        },
        "outputId": "415a1d00-97d7-4663-a169-d43446a5a8b4"
      },
      "source": [
        "# 형태소 분석 실행\n",
        "oktResult = okt.pos('나는 보리밥을 먹었다.')\n",
        "print(oktResult)\n",
        "\n",
        "kkmaResult = kkma.pos('나는 보리밥을 먹었다.')\n",
        "print(kkmaResult)"
      ],
      "execution_count": null,
      "outputs": [
        {
          "output_type": "stream",
          "text": [
            "[('나', 'Noun'), ('는', 'Josa'), ('보리밥', 'Noun'), ('을', 'Josa'), ('먹었다', 'Verb'), ('.', 'Punctuation')]\n",
            "[('나', 'NP'), ('는', 'JX'), ('보리밥', 'NNG'), ('을', 'JKO'), ('먹', 'VV'), ('었', 'EPT'), ('다', 'EFN'), ('.', 'SF')]\n"
          ],
          "name": "stdout"
        }
      ]
    },
    {
      "cell_type": "code",
      "metadata": {
        "id": "H3qAGkJmLBDt",
        "colab_type": "code",
        "colab": {
          "base_uri": "https://localhost:8080/",
          "height": 269
        },
        "outputId": "ca1ef643-eb7e-4bb6-a9a7-a4cea282b609"
      },
      "source": [
        "# 한글 형태소 분석\n",
        "result = okt.pos('흠...포스터보고 초딩영화줄....오버연기조차 가볍지 않구나 ㅋㅋ', norm=True, stem=True)\n",
        "result"
      ],
      "execution_count": null,
      "outputs": [
        {
          "output_type": "execute_result",
          "data": {
            "text/plain": [
              "[('흠', 'Noun'),\n",
              " ('...', 'Punctuation'),\n",
              " ('포스터', 'Noun'),\n",
              " ('보고', 'Noun'),\n",
              " ('초딩', 'Noun'),\n",
              " ('영화', 'Noun'),\n",
              " ('줄', 'Noun'),\n",
              " ('....', 'Punctuation'),\n",
              " ('오버', 'Noun'),\n",
              " ('연기', 'Noun'),\n",
              " ('조차', 'Josa'),\n",
              " ('가볍다', 'Adjective'),\n",
              " ('않다', 'Verb'),\n",
              " ('ㅋㅋ', 'KoreanParticle')]"
            ]
          },
          "metadata": {
            "tags": []
          },
          "execution_count": 11
        }
      ]
    }
  ]
}