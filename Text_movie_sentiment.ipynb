{
  "nbformat": 4,
  "nbformat_minor": 0,
  "metadata": {
    "colab": {
      "name": "Text_movie_sentiment.ipynb",
      "provenance": [],
      "collapsed_sections": [],
      "authorship_tag": "ABX9TyNww4eYGEbJUvxlG5jsCyON",
      "include_colab_link": true
    },
    "kernelspec": {
      "name": "python3",
      "display_name": "Python 3"
    },
    "accelerator": "GPU"
  },
  "cells": [
    {
      "cell_type": "markdown",
      "metadata": {
        "id": "view-in-github",
        "colab_type": "text"
      },
      "source": [
        "<a href=\"https://colab.research.google.com/github/tsbslteisrhy/Bigdata/blob/master/Text_movie_sentiment.ipynb\" target=\"_parent\"><img src=\"https://colab.research.google.com/assets/colab-badge.svg\" alt=\"Open In Colab\"/></a>"
      ]
    },
    {
      "cell_type": "code",
      "metadata": {
        "id": "twadY39MdYmf",
        "colab_type": "code",
        "colab": {}
      },
      "source": [
        "#구글 드라이브 연동\n",
        "from google.colab import drive\n",
        "drive.mount('/content/drive')"
      ],
      "execution_count": null,
      "outputs": []
    },
    {
      "cell_type": "code",
      "metadata": {
        "id": "jD4QmgoHcHwt",
        "colab_type": "code",
        "colab": {}
      },
      "source": [
        "\"\"\"\n",
        "날짜 : 2020/09/08\n",
        "이름 : 유효진\n",
        "내용 : 영화 리뷰 감성 분석하기\n",
        "\"\"\"\n",
        "import codecs\n",
        "import numpy as np\n",
        "from tensorflow.keras.preprocessing import sequence\n",
        "from tensorflow.keras.preprocessing.text import Tokenizer\n",
        "from tensorflow.keras.preprocessing.sequence import pad_sequences\n",
        "from tensorflow.keras.models import Sequential\n",
        "from tensorflow.keras.layers import Dense, Embedding\n",
        "from tensorflow.keras.layers import LSTM"
      ],
      "execution_count": null,
      "outputs": []
    },
    {
      "cell_type": "code",
      "metadata": {
        "id": "S54vHPdoc25N",
        "colab_type": "code",
        "colab": {}
      },
      "source": [
        "# 파일 로드 함수정의\n",
        "def load_data(file):\n",
        "  result = []\n",
        "\n",
        "  with open(file, 'r', encoding='utf-8') as f:\n",
        "    lines = f.read().splitlines()\n",
        "\n",
        "    for line in lines:\n",
        "      data = line.split('\\t')\n",
        "      result.append(data)\n",
        "\n",
        "  result = result[1:] # header 정보 제외\n",
        "  return result\n",
        "\n",
        "# 데이터셋 생성 함수정의\n",
        "def make_dataset(train_data, test_data):\n",
        "  #학습용\n",
        "  train_x = []\n",
        "  train_y = []\n",
        "\n",
        "  for i in range(len(train_data)):\n",
        "    train_x.append(train_data[i][1])\n",
        "    train_y.append(int(train_data[i][2]))\n",
        "\n",
        "  #테스트용\n",
        "  test_x = []\n",
        "  test_y = []\n",
        "\n",
        "  for i in range(len(test_data)):\n",
        "    test_x.append(test_data[i][1])\n",
        "    test_y.append(int(test_data[i][2]))\n",
        "\n",
        "  # 최대 5000개의 단어를 갖는 단어사전 생성\n",
        "  tokenizer = Tokenizer(num_words=5000)\n",
        "  tokenizer.fit_on_texts(train_x)\n",
        "\n",
        "  # BOW 표기\n",
        "  token_train_x = tokenizer.texts_to_sequences(train_x)\n",
        "  token_test_x = tokenizer.texts_to_sequences(test_x)\n",
        "\n",
        "  return (token_train_x, train_y), (token_test_x, test_y)"
      ],
      "execution_count": null,
      "outputs": []
    },
    {
      "cell_type": "code",
      "metadata": {
        "id": "V8ACoPqgkO4F",
        "colab_type": "code",
        "colab": {
          "base_uri": "https://localhost:8080/",
          "height": 35
        },
        "outputId": "bc7374b1-0c91-4762-bae0-200670ce1208"
      },
      "source": [
        "# 데이터 파일 로드\n",
        "train_data = load_data('/content/drive/My Drive/Tensorflow_works/data/ratings_train.txt')\n",
        "test_data = load_data('/content/drive/My Drive/Tensorflow_works/data/ratings_test.txt')\n",
        "train_data[0]"
      ],
      "execution_count": null,
      "outputs": [
        {
          "output_type": "execute_result",
          "data": {
            "text/plain": [
              "['9976970', '아 더빙.. 진짜 짜증나네요 목소리', '0']"
            ]
          },
          "metadata": {
            "tags": []
          },
          "execution_count": 16
        }
      ]
    },
    {
      "cell_type": "code",
      "metadata": {
        "id": "DeTpxMmYkh78",
        "colab_type": "code",
        "colab": {}
      },
      "source": [
        "# 데이터셋 생성\n",
        "(train_x, train_y), (test_x, test_y) = make_dataset(train_data, test_data)\n",
        "train_x"
      ],
      "execution_count": null,
      "outputs": []
    },
    {
      "cell_type": "code",
      "metadata": {
        "id": "vEgTyCkik8iS",
        "colab_type": "code",
        "colab": {
          "base_uri": "https://localhost:8080/",
          "height": 89
        },
        "outputId": "11059c87-de20-4eb7-a3c7-e1e3ed5ab4df"
      },
      "source": [
        "# 데이터셋 확인\n",
        "print(train_x[0], test_y[0])\n",
        "print(train_x[1], test_y[1])\n",
        "print(test_x[0], test_y[0])\n",
        "print(test_x[49999], test_y[49999])"
      ],
      "execution_count": null,
      "outputs": [
        {
          "output_type": "stream",
          "text": [
            "[23, 936, 4, 1097] 1\n",
            "[602] 0\n",
            "[639, 49] 1\n",
            "[56, 1376] 0\n"
          ],
          "name": "stdout"
        }
      ]
    },
    {
      "cell_type": "code",
      "metadata": {
        "id": "HD0GYFiqmXdI",
        "colab_type": "code",
        "colab": {
          "base_uri": "https://localhost:8080/",
          "height": 197
        },
        "outputId": "227da6ad-dc62-4143-844c-4611322b8ee2"
      },
      "source": [
        "# 데이터 전처리\n",
        "train_x = sequence.pad_sequences(train_x, maxlen=100)\n",
        "test_x = sequence.pad_sequences(test_x, maxlen=100)\n",
        "\n",
        "train_y = np.array(train_y)\n",
        "test_y = np.array(test_y)\n",
        "\n",
        "train_x[0]"
      ],
      "execution_count": null,
      "outputs": [
        {
          "output_type": "execute_result",
          "data": {
            "text/plain": [
              "array([   0,    0,    0,    0,    0,    0,    0,    0,    0,    0,    0,\n",
              "          0,    0,    0,    0,    0,    0,    0,    0,    0,    0,    0,\n",
              "          0,    0,    0,    0,    0,    0,    0,    0,    0,    0,    0,\n",
              "          0,    0,    0,    0,    0,    0,    0,    0,    0,    0,    0,\n",
              "          0,    0,    0,    0,    0,    0,    0,    0,    0,    0,    0,\n",
              "          0,    0,    0,    0,    0,    0,    0,    0,    0,    0,    0,\n",
              "          0,    0,    0,    0,    0,    0,    0,    0,    0,    0,    0,\n",
              "          0,    0,    0,    0,    0,    0,    0,    0,    0,    0,    0,\n",
              "          0,    0,    0,    0,    0,    0,    0,    0,   23,  936,    4,\n",
              "       1097], dtype=int32)"
            ]
          },
          "metadata": {
            "tags": []
          },
          "execution_count": 22
        }
      ]
    },
    {
      "cell_type": "code",
      "metadata": {
        "id": "FW8PfLq3nIDB",
        "colab_type": "code",
        "colab": {
          "base_uri": "https://localhost:8080/",
          "height": 269
        },
        "outputId": "ee1317b9-39bd-4b5d-f887-e9879938fbb0"
      },
      "source": [
        "# 모델 구성\n",
        "model = Sequential()\n",
        "model.add(Embedding(5000, 128))\n",
        "model.add(LSTM(128, dropout=0.2))\n",
        "model.add(Dense(1, activation='sigmoid'))\n",
        "\n",
        "model.summary()"
      ],
      "execution_count": null,
      "outputs": [
        {
          "output_type": "stream",
          "text": [
            "Model: \"sequential_1\"\n",
            "_________________________________________________________________\n",
            "Layer (type)                 Output Shape              Param #   \n",
            "=================================================================\n",
            "embedding_1 (Embedding)      (None, None, 128)         640000    \n",
            "_________________________________________________________________\n",
            "lstm_1 (LSTM)                (None, 128)               131584    \n",
            "_________________________________________________________________\n",
            "dense_1 (Dense)              (None, 1)                 129       \n",
            "=================================================================\n",
            "Total params: 771,713\n",
            "Trainable params: 771,713\n",
            "Non-trainable params: 0\n",
            "_________________________________________________________________\n"
          ],
          "name": "stdout"
        }
      ]
    },
    {
      "cell_type": "code",
      "metadata": {
        "id": "rwM1Pr2Wmr9i",
        "colab_type": "code",
        "colab": {}
      },
      "source": [
        "# 모델 설정\n",
        "model.compile(optimizer='adam',\n",
        "              loss='binary_crossentropy',\n",
        "              metrics=['acc'])"
      ],
      "execution_count": null,
      "outputs": []
    },
    {
      "cell_type": "code",
      "metadata": {
        "id": "xxHLgPIqn3Nn",
        "colab_type": "code",
        "colab": {
          "base_uri": "https://localhost:8080/",
          "height": 395
        },
        "outputId": "35617b4a-9852-4c90-ec77-4b7daa27c9bc"
      },
      "source": [
        "# 모델 학습\n",
        "model.fit(train_x, train_y, batch_size=128, epochs=10)"
      ],
      "execution_count": null,
      "outputs": [
        {
          "output_type": "stream",
          "text": [
            "Epoch 1/10\n",
            "1172/1172 [==============================] - 18s 16ms/step - loss: 0.4495 - acc: 0.7678\n",
            "Epoch 2/10\n",
            "1172/1172 [==============================] - 18s 16ms/step - loss: 0.4030 - acc: 0.7938\n",
            "Epoch 3/10\n",
            "1172/1172 [==============================] - 18s 16ms/step - loss: 0.3858 - acc: 0.8008\n",
            "Epoch 4/10\n",
            "1172/1172 [==============================] - 18s 16ms/step - loss: 0.3719 - acc: 0.8079\n",
            "Epoch 5/10\n",
            "1172/1172 [==============================] - 18s 15ms/step - loss: 0.3590 - acc: 0.8127\n",
            "Epoch 6/10\n",
            "1172/1172 [==============================] - 18s 15ms/step - loss: 0.3473 - acc: 0.8186\n",
            "Epoch 7/10\n",
            "1172/1172 [==============================] - 18s 15ms/step - loss: 0.3349 - acc: 0.8256\n",
            "Epoch 8/10\n",
            "1172/1172 [==============================] - 18s 16ms/step - loss: 0.3208 - acc: 0.8311\n",
            "Epoch 9/10\n",
            "1172/1172 [==============================] - 18s 15ms/step - loss: 0.3066 - acc: 0.8390\n",
            "Epoch 10/10\n",
            "1172/1172 [==============================] - 18s 16ms/step - loss: 0.2930 - acc: 0.8449\n"
          ],
          "name": "stdout"
        },
        {
          "output_type": "execute_result",
          "data": {
            "text/plain": [
              "<tensorflow.python.keras.callbacks.History at 0x7fb32e25a780>"
            ]
          },
          "metadata": {
            "tags": []
          },
          "execution_count": 27
        }
      ]
    },
    {
      "cell_type": "code",
      "metadata": {
        "id": "hA0hT6p7oC6Z",
        "colab_type": "code",
        "colab": {
          "base_uri": "https://localhost:8080/",
          "height": 53
        },
        "outputId": "bdeed210-743f-4a06-99e5-873efbef730c"
      },
      "source": [
        "# 모델 성능확인\n",
        "result = model.evaluate(test_x, test_y, batch_size=128)\n",
        "result"
      ],
      "execution_count": null,
      "outputs": [
        {
          "output_type": "stream",
          "text": [
            "391/391 [==============================] - 2s 5ms/step - loss: 0.5501 - acc: 0.7699\n"
          ],
          "name": "stdout"
        },
        {
          "output_type": "execute_result",
          "data": {
            "text/plain": [
              "[0.5500897765159607, 0.7699000239372253]"
            ]
          },
          "metadata": {
            "tags": []
          },
          "execution_count": 28
        }
      ]
    },
    {
      "cell_type": "code",
      "metadata": {
        "id": "WVjFj352oDYJ",
        "colab_type": "code",
        "colab": {
          "base_uri": "https://localhost:8080/",
          "height": 35
        },
        "outputId": "59a869af-cfe1-42ac-ee9c-fec437d55470"
      },
      "source": [
        "# 모델 저장\n",
        "model.save('/content/drive/My Drive/Tensorflow_works/model/review1.model')"
      ],
      "execution_count": null,
      "outputs": [
        {
          "output_type": "stream",
          "text": [
            "INFO:tensorflow:Assets written to: /content/drive/My Drive/Tensorflow_works/model/review1.model/assets\n"
          ],
          "name": "stdout"
        }
      ]
    }
  ]
}