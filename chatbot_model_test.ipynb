{
  "nbformat": 4,
  "nbformat_minor": 0,
  "metadata": {
    "colab": {
      "name": "chatbot_model_test.ipynb",
      "provenance": [],
      "authorship_tag": "ABX9TyOkPV11YG26f8eugpPNmJ/3",
      "include_colab_link": true
    },
    "kernelspec": {
      "name": "python3",
      "display_name": "Python 3"
    }
  },
  "cells": [
    {
      "cell_type": "markdown",
      "metadata": {
        "id": "view-in-github",
        "colab_type": "text"
      },
      "source": [
        "<a href=\"https://colab.research.google.com/github/tsbslteisrhy/Bigdata/blob/master/chatbot_model_test.ipynb\" target=\"_parent\"><img src=\"https://colab.research.google.com/assets/colab-badge.svg\" alt=\"Open In Colab\"/></a>"
      ]
    },
    {
      "cell_type": "code",
      "metadata": {
        "id": "BlCXIIEVm4DT",
        "colab_type": "code",
        "colab": {
          "base_uri": "https://localhost:8080/",
          "height": 127
        },
        "outputId": "c0ab51d7-3e76-4481-fb18-d964f42e131b"
      },
      "source": [
        "# 구글드라이브 연동\n",
        "from google.colab import drive\n",
        "drive.mount('/content/drive')"
      ],
      "execution_count": 2,
      "outputs": [
        {
          "output_type": "stream",
          "text": [
            "Go to this URL in a browser: https://accounts.google.com/o/oauth2/auth?client_id=947318989803-6bn6qk8qdgf4n4g3pfee6491hc0brc4i.apps.googleusercontent.com&redirect_uri=urn%3aietf%3awg%3aoauth%3a2.0%3aoob&scope=email%20https%3a%2f%2fwww.googleapis.com%2fauth%2fdocs.test%20https%3a%2f%2fwww.googleapis.com%2fauth%2fdrive%20https%3a%2f%2fwww.googleapis.com%2fauth%2fdrive.photos.readonly%20https%3a%2f%2fwww.googleapis.com%2fauth%2fpeopleapi.readonly&response_type=code\n",
            "\n",
            "Enter your authorization code:\n",
            "4/3wG1xTUfbqGyCTcsdsP-Kz4ftC5vSTX4pHNJVR-WfcxYqqfwXe-niTs\n",
            "Mounted at /content/drive\n"
          ],
          "name": "stdout"
        }
      ]
    },
    {
      "cell_type": "code",
      "metadata": {
        "id": "60aUFfZJmviy",
        "colab_type": "code",
        "colab": {}
      },
      "source": [
        "# 필요 패키지 임포트\n",
        "import codecs\n",
        "import tensorflow as tf\n",
        "import keras\n",
        "import numpy as np\n",
        "import random, sys\n",
        "from keras.models import Sequential\n",
        "from keras.layers import Dense, Activation, Dropout\n",
        "from keras.layers import LSTM\n",
        "from keras.optimizers import RMSprop\n",
        "from keras.utils.data_utils import get_file\n",
        "from keras.models import load_model\n",
        "from bs4 import BeautifulSoup"
      ],
      "execution_count": 3,
      "outputs": []
    },
    {
      "cell_type": "code",
      "metadata": {
        "id": "7NZidCanm1qk",
        "colab_type": "code",
        "colab": {}
      },
      "source": [
        "# 모델 로드\n",
        "model = load_model('/content/drive/My Drive/Tensorflow_works/model/chatbot.model')"
      ],
      "execution_count": 4,
      "outputs": []
    },
    {
      "cell_type": "code",
      "metadata": {
        "id": "A7VDFrJ0nF7a",
        "colab_type": "code",
        "colab": {}
      },
      "source": [
        "# 파일 로드 함수정의\n",
        "def load_data(file):\n",
        "  result = []\n",
        "\n",
        "  with open(file, 'r', encoding='utf-8') as f:\n",
        "    lines = f.read().splitlines()\n",
        "\n",
        "    for line in lines:\n",
        "      data = line.split(',')\n",
        "      data = data[0] + ' ' + data[1]\n",
        "      result.append(data)\n",
        "\n",
        "  result = result[1:] # header 정보 제외\n",
        "  return result"
      ],
      "execution_count": 5,
      "outputs": []
    },
    {
      "cell_type": "code",
      "metadata": {
        "id": "Vy4ivOhYnKa6",
        "colab_type": "code",
        "colab": {}
      },
      "source": [
        "# 데이터 로드\n",
        "chat_dataset = load_data('/content/drive/My Drive/Tensorflow_works/data/ChatbotData.csv')\n",
        "chat_text = ' '.join(chat_dataset)"
      ],
      "execution_count": 6,
      "outputs": []
    },
    {
      "cell_type": "code",
      "metadata": {
        "id": "eEpqcKmfnQ7C",
        "colab_type": "code",
        "colab": {}
      },
      "source": [
        "# 문자 벡터화\n",
        "chars = sorted(list(set(chat_text)))\n",
        "char_index = dict((c, i) for i, c in enumerate(chars)) # 문자 - index\n",
        "index_char = dict((i, c) for i, c in enumerate(chars)) # index - 문자\n",
        "\n",
        "# 텍스트를 maxlen개의 문자로 자르고 다음에 오는 문자 등록\n",
        "maxlen = 20\n",
        "step = 3\n",
        "sentences = []\n",
        "next_char = []\n",
        "\n",
        "for i in range(0, len(chat_text) - maxlen, step):\n",
        "  sentences.append(chat_text[i: i + maxlen])\n",
        "  next_char.append(chat_text[i + maxlen])"
      ],
      "execution_count": 8,
      "outputs": []
    },
    {
      "cell_type": "code",
      "metadata": {
        "id": "LAstYwz-nT3y",
        "colab_type": "code",
        "colab": {}
      },
      "source": [
        "# 임의의 시작 텍스트 선택\n",
        "start_index = random.randint(0, len(chat_text) -maxlen - 1)\n",
        "\n",
        "# 후보 단어를 추천\n",
        "def sample(pred, temperature=1.0):\n",
        "    pred = np.asarray(pred).astype('float64')\n",
        "    pred = np.log(pred) / temperature\n",
        "    exp_pred = np.exp(pred)\n",
        "\n",
        "    pred = exp_pred / np.sum(exp_pred)\n",
        "    probas = np.random.multinomial(1, pred, 1)\n",
        "\n",
        "    return np.argmax(probas)\n",
        "\n",
        "def make_reply(sentence):\n",
        "    generated = ''\n",
        "\n",
        "    for i in range(40):\n",
        "        x = np.zeros((1, maxlen, len(chars)))\n",
        "\n",
        "        for t, char in enumerate(sentence):\n",
        "            x[0, t, char_index[char]] = 1\n",
        "\n",
        "        # 다음에 올 문자 예측\n",
        "        pred = model.predict(x, verbose=0)[0]\n",
        "        next_index = sample(pred, 0.8)\n",
        "        next_char = index_char[next_index]\n",
        "\n",
        "        # 출력\n",
        "        generated += next_char\n",
        "        sentence = sentence[1:] + next_char\n",
        "\n",
        "    return generated\n"
      ],
      "execution_count": 9,
      "outputs": []
    },
    {
      "cell_type": "code",
      "metadata": {
        "id": "nsckj5qNnavC",
        "colab_type": "code",
        "colab": {
          "base_uri": "https://localhost:8080/",
          "height": 35
        },
        "outputId": "e17a9a99-e04a-421f-8e6b-dbacb0102637"
      },
      "source": [
        "make_reply('치킨 먹고싶다~')"
      ],
      "execution_count": 11,
      "outputs": [
        {
          "output_type": "execute_result",
          "data": {
            "application/vnd.google.colaboratory.intrinsic+json": {
              "type": "string"
            },
            "text/plain": [
              "'한 준네장게같라만생과바진느네은습생장다지라지 할했네생하어된오만진했네라못지 '"
            ]
          },
          "metadata": {
            "tags": []
          },
          "execution_count": 11
        }
      ]
    },
    {
      "cell_type": "code",
      "metadata": {
        "id": "YGQnrcMtneIq",
        "colab_type": "code",
        "colab": {}
      },
      "source": [
        ""
      ],
      "execution_count": null,
      "outputs": []
    }
  ]
}