{
  "nbformat": 4,
  "nbformat_minor": 0,
  "metadata": {
    "colab": {
      "name": "tf13_smartcar_dnn_model.ipynb",
      "provenance": [],
      "collapsed_sections": [],
      "authorship_tag": "ABX9TyMgtRQqgTvbOGe1MDdJUEXH",
      "include_colab_link": true
    },
    "kernelspec": {
      "name": "python3",
      "display_name": "Python 3"
    }
  },
  "cells": [
    {
      "cell_type": "markdown",
      "metadata": {
        "id": "view-in-github",
        "colab_type": "text"
      },
      "source": [
        "<a href=\"https://colab.research.google.com/github/tsbslteisrhy/Bigdata/blob/master/tf13_smartcar_dnn_model.ipynb\" target=\"_parent\"><img src=\"https://colab.research.google.com/assets/colab-badge.svg\" alt=\"Open In Colab\"/></a>"
      ]
    },
    {
      "cell_type": "code",
      "metadata": {
        "id": "KXHej9-MmHyu",
        "colab_type": "code",
        "colab": {}
      },
      "source": [
        "#필요한 라이브러리 임포트\n",
        "import tensorflow as tf\n",
        "import pandas as pd\n",
        "import matplotlib.pyplot as plt\n",
        "\n",
        "from time import time\n",
        "from tensorflow.python.keras.callbacks import TensorBoard\n",
        "from tensorflow import keras\n",
        "from tensorflow.keras.models import Sequential\n",
        "from tensorflow.keras.layers import Dense, Dropout\n",
        "from sklearn.preprocessing import StandardScaler\n",
        "from sklearn.model_selection import train_test_split\n",
        "from sklearn.metrics import roc_curve, roc_auc_score, auc\n",
        "from keras.utils import to_categorical\n",
        "from keras.models import load_model"
      ],
      "execution_count": 7,
      "outputs": []
    },
    {
      "cell_type": "code",
      "metadata": {
        "id": "GTvzN8N9nAzM",
        "colab_type": "code",
        "colab": {
          "base_uri": "https://localhost:8080/",
          "height": 35
        },
        "outputId": "d0e624c6-8df5-4500-b13f-b99be2308bb5"
      },
      "source": [
        "#구글 드라이브 연동\n",
        "from google.colab import drive\n",
        "drive.mount('/content/drive')"
      ],
      "execution_count": 8,
      "outputs": [
        {
          "output_type": "stream",
          "text": [
            "Drive already mounted at /content/drive; to attempt to forcibly remount, call drive.mount(\"/content/drive\", force_remount=True).\n"
          ],
          "name": "stdout"
        }
      ]
    },
    {
      "cell_type": "code",
      "metadata": {
        "id": "aQfk2e6qnIql",
        "colab_type": "code",
        "colab": {
          "base_uri": "https://localhost:8080/",
          "height": 419
        },
        "outputId": "59735712-073d-458a-a753-be92982eceb6"
      },
      "source": [
        "#데이터셋 로드\n",
        "df_train = pd.read_csv('/content/drive/My Drive/Tensorflow_works/data/CarDrivingIncidentInfo.csv')\n",
        "df"
      ],
      "execution_count": 18,
      "outputs": [
        {
          "output_type": "execute_result",
          "data": {
            "text/html": [
              "<div>\n",
              "<style scoped>\n",
              "    .dataframe tbody tr th:only-of-type {\n",
              "        vertical-align: middle;\n",
              "    }\n",
              "\n",
              "    .dataframe tbody tr th {\n",
              "        vertical-align: top;\n",
              "    }\n",
              "\n",
              "    .dataframe thead th {\n",
              "        text-align: right;\n",
              "    }\n",
              "</style>\n",
              "<table border=\"1\" class=\"dataframe\">\n",
              "  <thead>\n",
              "    <tr style=\"text-align: right;\">\n",
              "      <th></th>\n",
              "      <th>wea</th>\n",
              "      <th>temp</th>\n",
              "      <th>hum</th>\n",
              "      <th>arrCar</th>\n",
              "      <th>timeSlot</th>\n",
              "      <th>acciArea</th>\n",
              "      <th>drvCond</th>\n",
              "      <th>innCond</th>\n",
              "      <th>carSpd</th>\n",
              "      <th>steeAng</th>\n",
              "      <th>acciPos</th>\n",
              "    </tr>\n",
              "  </thead>\n",
              "  <tbody>\n",
              "    <tr>\n",
              "      <th>0</th>\n",
              "      <td>0</td>\n",
              "      <td>1</td>\n",
              "      <td>1</td>\n",
              "      <td>1</td>\n",
              "      <td>1</td>\n",
              "      <td>2</td>\n",
              "      <td>1</td>\n",
              "      <td>2</td>\n",
              "      <td>2</td>\n",
              "      <td>1</td>\n",
              "      <td>2</td>\n",
              "    </tr>\n",
              "    <tr>\n",
              "      <th>1</th>\n",
              "      <td>1</td>\n",
              "      <td>0</td>\n",
              "      <td>0</td>\n",
              "      <td>0</td>\n",
              "      <td>0</td>\n",
              "      <td>0</td>\n",
              "      <td>2</td>\n",
              "      <td>0</td>\n",
              "      <td>0</td>\n",
              "      <td>0</td>\n",
              "      <td>0</td>\n",
              "    </tr>\n",
              "    <tr>\n",
              "      <th>2</th>\n",
              "      <td>1</td>\n",
              "      <td>0</td>\n",
              "      <td>0</td>\n",
              "      <td>1</td>\n",
              "      <td>0</td>\n",
              "      <td>1</td>\n",
              "      <td>2</td>\n",
              "      <td>0</td>\n",
              "      <td>1</td>\n",
              "      <td>1</td>\n",
              "      <td>0</td>\n",
              "    </tr>\n",
              "    <tr>\n",
              "      <th>3</th>\n",
              "      <td>0</td>\n",
              "      <td>0</td>\n",
              "      <td>0</td>\n",
              "      <td>0</td>\n",
              "      <td>0</td>\n",
              "      <td>1</td>\n",
              "      <td>2</td>\n",
              "      <td>1</td>\n",
              "      <td>1</td>\n",
              "      <td>0</td>\n",
              "      <td>0</td>\n",
              "    </tr>\n",
              "    <tr>\n",
              "      <th>4</th>\n",
              "      <td>0</td>\n",
              "      <td>0</td>\n",
              "      <td>0</td>\n",
              "      <td>0</td>\n",
              "      <td>0</td>\n",
              "      <td>0</td>\n",
              "      <td>2</td>\n",
              "      <td>2</td>\n",
              "      <td>2</td>\n",
              "      <td>0</td>\n",
              "      <td>0</td>\n",
              "    </tr>\n",
              "    <tr>\n",
              "      <th>...</th>\n",
              "      <td>...</td>\n",
              "      <td>...</td>\n",
              "      <td>...</td>\n",
              "      <td>...</td>\n",
              "      <td>...</td>\n",
              "      <td>...</td>\n",
              "      <td>...</td>\n",
              "      <td>...</td>\n",
              "      <td>...</td>\n",
              "      <td>...</td>\n",
              "      <td>...</td>\n",
              "    </tr>\n",
              "    <tr>\n",
              "      <th>199995</th>\n",
              "      <td>2</td>\n",
              "      <td>0</td>\n",
              "      <td>0</td>\n",
              "      <td>1</td>\n",
              "      <td>1</td>\n",
              "      <td>2</td>\n",
              "      <td>1</td>\n",
              "      <td>1</td>\n",
              "      <td>0</td>\n",
              "      <td>0</td>\n",
              "      <td>1</td>\n",
              "    </tr>\n",
              "    <tr>\n",
              "      <th>199996</th>\n",
              "      <td>0</td>\n",
              "      <td>1</td>\n",
              "      <td>1</td>\n",
              "      <td>1</td>\n",
              "      <td>0</td>\n",
              "      <td>1</td>\n",
              "      <td>0</td>\n",
              "      <td>0</td>\n",
              "      <td>2</td>\n",
              "      <td>1</td>\n",
              "      <td>0</td>\n",
              "    </tr>\n",
              "    <tr>\n",
              "      <th>199997</th>\n",
              "      <td>1</td>\n",
              "      <td>0</td>\n",
              "      <td>2</td>\n",
              "      <td>0</td>\n",
              "      <td>1</td>\n",
              "      <td>2</td>\n",
              "      <td>2</td>\n",
              "      <td>1</td>\n",
              "      <td>2</td>\n",
              "      <td>0</td>\n",
              "      <td>2</td>\n",
              "    </tr>\n",
              "    <tr>\n",
              "      <th>199998</th>\n",
              "      <td>0</td>\n",
              "      <td>1</td>\n",
              "      <td>0</td>\n",
              "      <td>2</td>\n",
              "      <td>1</td>\n",
              "      <td>2</td>\n",
              "      <td>0</td>\n",
              "      <td>0</td>\n",
              "      <td>0</td>\n",
              "      <td>0</td>\n",
              "      <td>0</td>\n",
              "    </tr>\n",
              "    <tr>\n",
              "      <th>199999</th>\n",
              "      <td>1</td>\n",
              "      <td>0</td>\n",
              "      <td>0</td>\n",
              "      <td>1</td>\n",
              "      <td>1</td>\n",
              "      <td>1</td>\n",
              "      <td>2</td>\n",
              "      <td>2</td>\n",
              "      <td>0</td>\n",
              "      <td>0</td>\n",
              "      <td>1</td>\n",
              "    </tr>\n",
              "  </tbody>\n",
              "</table>\n",
              "<p>200000 rows × 11 columns</p>\n",
              "</div>"
            ],
            "text/plain": [
              "        wea  temp  hum  arrCar  ...  innCond  carSpd  steeAng  acciPos\n",
              "0         0     1    1       1  ...        2       2        1        2\n",
              "1         1     0    0       0  ...        0       0        0        0\n",
              "2         1     0    0       1  ...        0       1        1        0\n",
              "3         0     0    0       0  ...        1       1        0        0\n",
              "4         0     0    0       0  ...        2       2        0        0\n",
              "...     ...   ...  ...     ...  ...      ...     ...      ...      ...\n",
              "199995    2     0    0       1  ...        1       0        0        1\n",
              "199996    0     1    1       1  ...        0       2        1        0\n",
              "199997    1     0    2       0  ...        1       2        0        2\n",
              "199998    0     1    0       2  ...        0       0        0        0\n",
              "199999    1     0    0       1  ...        2       0        0        1\n",
              "\n",
              "[200000 rows x 11 columns]"
            ]
          },
          "metadata": {
            "tags": []
          },
          "execution_count": 18
        }
      ]
    },
    {
      "cell_type": "code",
      "metadata": {
        "id": "mJW8LTSur6F-",
        "colab_type": "code",
        "colab": {}
      },
      "source": [
        "#데이터 전처리\n",
        "X = df.iloc[:, :-1].values\n",
        "Y = df.iloc[:, -1].values\n",
        "\n",
        "X_train, X_test, Y_train, Y_test = train_test_split(X, Y, test_size=0.2, random_state=1)\n",
        "\n",
        "Y_train = to_categorical(Y_train)\n",
        "Y_test = to_categorical(Y_test)\n",
        "\n",
        "sc = StandardScaler()\n",
        "X_train = sc.fit_transform(X_train)\n",
        "X_test = sc.transform(X_test)"
      ],
      "execution_count": 19,
      "outputs": []
    },
    {
      "cell_type": "code",
      "metadata": {
        "id": "RD-BXyXhnd_f",
        "colab_type": "code",
        "colab": {
          "base_uri": "https://localhost:8080/",
          "height": 341
        },
        "outputId": "88d3ca4a-5f2e-470c-d216-aa30db2039b1"
      },
      "source": [
        "#DNN 모델 구성 및 요약 정보 출력\n",
        "model = Sequential([\n",
        "    Dense(10, input_dim=10, activation='relu'),\n",
        "    Dense(20, activation='relu'),\n",
        "    Dropout(0.25),\n",
        "    Dense(10, activation='relu'),\n",
        "    Dense(3, activation='softmax')\n",
        "])\n",
        "model.compile(optimizer = 'adam',\n",
        "              loss = 'categorical_crossentropy',\n",
        "              metrics = ['acc'])\n",
        "\n",
        "model.summary()"
      ],
      "execution_count": 25,
      "outputs": [
        {
          "output_type": "stream",
          "text": [
            "Model: \"sequential_3\"\n",
            "_________________________________________________________________\n",
            "Layer (type)                 Output Shape              Param #   \n",
            "=================================================================\n",
            "dense_12 (Dense)             (None, 10)                110       \n",
            "_________________________________________________________________\n",
            "dense_13 (Dense)             (None, 20)                220       \n",
            "_________________________________________________________________\n",
            "dropout_3 (Dropout)          (None, 20)                0         \n",
            "_________________________________________________________________\n",
            "dense_14 (Dense)             (None, 10)                210       \n",
            "_________________________________________________________________\n",
            "dense_15 (Dense)             (None, 3)                 33        \n",
            "=================================================================\n",
            "Total params: 573\n",
            "Trainable params: 573\n",
            "Non-trainable params: 0\n",
            "_________________________________________________________________\n"
          ],
          "name": "stdout"
        }
      ]
    },
    {
      "cell_type": "code",
      "metadata": {
        "id": "HB1HJTDaocGt",
        "colab_type": "code",
        "colab": {
          "base_uri": "https://localhost:8080/",
          "height": 1000
        },
        "outputId": "dc88edad-d400-44eb-a1f1-faa4fc4eba1d"
      },
      "source": [
        "#DNN 모델 학습\n",
        "hist = model.fit(X_train,\n",
        "                 Y_train,\n",
        "                 batch_size=2000,\n",
        "                 epochs=50,\n",
        "                 validation_data=(X_test, Y_test))"
      ],
      "execution_count": 26,
      "outputs": [
        {
          "output_type": "stream",
          "text": [
            "Epoch 1/50\n",
            "80/80 [==============================] - 0s 5ms/step - loss: 0.9852 - acc: 0.4987 - val_loss: 0.8167 - val_acc: 0.6338\n",
            "Epoch 2/50\n",
            "80/80 [==============================] - 0s 4ms/step - loss: 0.6979 - acc: 0.6839 - val_loss: 0.4906 - val_acc: 0.7872\n",
            "Epoch 3/50\n",
            "80/80 [==============================] - 0s 4ms/step - loss: 0.4373 - acc: 0.8190 - val_loss: 0.2999 - val_acc: 0.8950\n",
            "Epoch 4/50\n",
            "80/80 [==============================] - 0s 3ms/step - loss: 0.2927 - acc: 0.8870 - val_loss: 0.1989 - val_acc: 0.9356\n",
            "Epoch 5/50\n",
            "80/80 [==============================] - 0s 4ms/step - loss: 0.2073 - acc: 0.9250 - val_loss: 0.1395 - val_acc: 0.9596\n",
            "Epoch 6/50\n",
            "80/80 [==============================] - 0s 4ms/step - loss: 0.1564 - acc: 0.9464 - val_loss: 0.1053 - val_acc: 0.9713\n",
            "Epoch 7/50\n",
            "80/80 [==============================] - 0s 3ms/step - loss: 0.1223 - acc: 0.9608 - val_loss: 0.0814 - val_acc: 0.9808\n",
            "Epoch 8/50\n",
            "80/80 [==============================] - 0s 3ms/step - loss: 0.0994 - acc: 0.9699 - val_loss: 0.0634 - val_acc: 0.9855\n",
            "Epoch 9/50\n",
            "80/80 [==============================] - 0s 4ms/step - loss: 0.0814 - acc: 0.9762 - val_loss: 0.0497 - val_acc: 0.9886\n",
            "Epoch 10/50\n",
            "80/80 [==============================] - 0s 3ms/step - loss: 0.0663 - acc: 0.9811 - val_loss: 0.0395 - val_acc: 0.9912\n",
            "Epoch 11/50\n",
            "80/80 [==============================] - 0s 3ms/step - loss: 0.0555 - acc: 0.9843 - val_loss: 0.0321 - val_acc: 0.9920\n",
            "Epoch 12/50\n",
            "80/80 [==============================] - 0s 3ms/step - loss: 0.0467 - acc: 0.9867 - val_loss: 0.0262 - val_acc: 0.9932\n",
            "Epoch 13/50\n",
            "80/80 [==============================] - 0s 4ms/step - loss: 0.0397 - acc: 0.9888 - val_loss: 0.0222 - val_acc: 0.9948\n",
            "Epoch 14/50\n",
            "80/80 [==============================] - 0s 3ms/step - loss: 0.0342 - acc: 0.9906 - val_loss: 0.0185 - val_acc: 0.9953\n",
            "Epoch 15/50\n",
            "80/80 [==============================] - 0s 3ms/step - loss: 0.0296 - acc: 0.9920 - val_loss: 0.0156 - val_acc: 0.9964\n",
            "Epoch 16/50\n",
            "80/80 [==============================] - 0s 4ms/step - loss: 0.0254 - acc: 0.9931 - val_loss: 0.0132 - val_acc: 0.9969\n",
            "Epoch 17/50\n",
            "80/80 [==============================] - 0s 4ms/step - loss: 0.0218 - acc: 0.9942 - val_loss: 0.0109 - val_acc: 0.9973\n",
            "Epoch 18/50\n",
            "80/80 [==============================] - 0s 3ms/step - loss: 0.0181 - acc: 0.9952 - val_loss: 0.0083 - val_acc: 0.9981\n",
            "Epoch 19/50\n",
            "80/80 [==============================] - 0s 3ms/step - loss: 0.0150 - acc: 0.9961 - val_loss: 0.0064 - val_acc: 0.9985\n",
            "Epoch 20/50\n",
            "80/80 [==============================] - 0s 4ms/step - loss: 0.0124 - acc: 0.9970 - val_loss: 0.0052 - val_acc: 0.9988\n",
            "Epoch 21/50\n",
            "80/80 [==============================] - 0s 3ms/step - loss: 0.0106 - acc: 0.9975 - val_loss: 0.0043 - val_acc: 0.9991\n",
            "Epoch 22/50\n",
            "80/80 [==============================] - 0s 3ms/step - loss: 0.0093 - acc: 0.9979 - val_loss: 0.0036 - val_acc: 0.9991\n",
            "Epoch 23/50\n",
            "80/80 [==============================] - 0s 3ms/step - loss: 0.0081 - acc: 0.9982 - val_loss: 0.0030 - val_acc: 0.9992\n",
            "Epoch 24/50\n",
            "80/80 [==============================] - 0s 4ms/step - loss: 0.0071 - acc: 0.9983 - val_loss: 0.0023 - val_acc: 0.9992\n",
            "Epoch 25/50\n",
            "80/80 [==============================] - 0s 3ms/step - loss: 0.0064 - acc: 0.9985 - val_loss: 0.0018 - val_acc: 0.9995\n",
            "Epoch 26/50\n",
            "80/80 [==============================] - 0s 3ms/step - loss: 0.0056 - acc: 0.9988 - val_loss: 0.0014 - val_acc: 0.9997\n",
            "Epoch 27/50\n",
            "80/80 [==============================] - 0s 4ms/step - loss: 0.0052 - acc: 0.9989 - val_loss: 0.0012 - val_acc: 0.9998\n",
            "Epoch 28/50\n",
            "80/80 [==============================] - 0s 3ms/step - loss: 0.0046 - acc: 0.9989 - val_loss: 9.5942e-04 - val_acc: 0.9998\n",
            "Epoch 29/50\n",
            "80/80 [==============================] - 0s 3ms/step - loss: 0.0039 - acc: 0.9992 - val_loss: 8.2543e-04 - val_acc: 0.9998\n",
            "Epoch 30/50\n",
            "80/80 [==============================] - 0s 4ms/step - loss: 0.0037 - acc: 0.9993 - val_loss: 7.0717e-04 - val_acc: 0.9998\n",
            "Epoch 31/50\n",
            "80/80 [==============================] - 0s 4ms/step - loss: 0.0036 - acc: 0.9992 - val_loss: 6.1118e-04 - val_acc: 0.9998\n",
            "Epoch 32/50\n",
            "80/80 [==============================] - 0s 3ms/step - loss: 0.0033 - acc: 0.9993 - val_loss: 5.6252e-04 - val_acc: 0.9998\n",
            "Epoch 33/50\n",
            "80/80 [==============================] - 0s 3ms/step - loss: 0.0030 - acc: 0.9992 - val_loss: 5.0539e-04 - val_acc: 0.9999\n",
            "Epoch 34/50\n",
            "80/80 [==============================] - 0s 4ms/step - loss: 0.0029 - acc: 0.9993 - val_loss: 4.4545e-04 - val_acc: 0.9999\n",
            "Epoch 35/50\n",
            "80/80 [==============================] - 0s 3ms/step - loss: 0.0027 - acc: 0.9994 - val_loss: 4.1243e-04 - val_acc: 0.9999\n",
            "Epoch 36/50\n",
            "80/80 [==============================] - 0s 4ms/step - loss: 0.0027 - acc: 0.9994 - val_loss: 3.6546e-04 - val_acc: 0.9999\n",
            "Epoch 37/50\n",
            "80/80 [==============================] - 0s 3ms/step - loss: 0.0023 - acc: 0.9995 - val_loss: 3.3769e-04 - val_acc: 0.9999\n",
            "Epoch 38/50\n",
            "80/80 [==============================] - 0s 4ms/step - loss: 0.0023 - acc: 0.9995 - val_loss: 3.0799e-04 - val_acc: 0.9999\n",
            "Epoch 39/50\n",
            "80/80 [==============================] - 0s 3ms/step - loss: 0.0021 - acc: 0.9995 - val_loss: 2.8173e-04 - val_acc: 0.9999\n",
            "Epoch 40/50\n",
            "80/80 [==============================] - 0s 4ms/step - loss: 0.0022 - acc: 0.9995 - val_loss: 2.6586e-04 - val_acc: 0.9999\n",
            "Epoch 41/50\n",
            "80/80 [==============================] - 0s 4ms/step - loss: 0.0020 - acc: 0.9996 - val_loss: 2.3212e-04 - val_acc: 0.9999\n",
            "Epoch 42/50\n",
            "80/80 [==============================] - 0s 3ms/step - loss: 0.0020 - acc: 0.9995 - val_loss: 2.1877e-04 - val_acc: 0.9999\n",
            "Epoch 43/50\n",
            "80/80 [==============================] - 0s 4ms/step - loss: 0.0018 - acc: 0.9996 - val_loss: 1.8779e-04 - val_acc: 1.0000\n",
            "Epoch 44/50\n",
            "80/80 [==============================] - 0s 4ms/step - loss: 0.0016 - acc: 0.9996 - val_loss: 1.6464e-04 - val_acc: 1.0000\n",
            "Epoch 45/50\n",
            "80/80 [==============================] - 0s 4ms/step - loss: 0.0015 - acc: 0.9997 - val_loss: 1.5238e-04 - val_acc: 1.0000\n",
            "Epoch 46/50\n",
            "80/80 [==============================] - 0s 3ms/step - loss: 0.0014 - acc: 0.9997 - val_loss: 1.3959e-04 - val_acc: 1.0000\n",
            "Epoch 47/50\n",
            "80/80 [==============================] - 0s 3ms/step - loss: 0.0015 - acc: 0.9996 - val_loss: 1.3540e-04 - val_acc: 1.0000\n",
            "Epoch 48/50\n",
            "80/80 [==============================] - 0s 4ms/step - loss: 0.0016 - acc: 0.9996 - val_loss: 1.2030e-04 - val_acc: 1.0000\n",
            "Epoch 49/50\n",
            "80/80 [==============================] - 0s 4ms/step - loss: 0.0014 - acc: 0.9997 - val_loss: 1.1408e-04 - val_acc: 1.0000\n",
            "Epoch 50/50\n",
            "80/80 [==============================] - 0s 4ms/step - loss: 0.0013 - acc: 0.9997 - val_loss: 9.7845e-05 - val_acc: 1.0000\n"
          ],
          "name": "stdout"
        }
      ]
    },
    {
      "cell_type": "code",
      "metadata": {
        "id": "Q9ERHY0lov_7",
        "colab_type": "code",
        "colab": {
          "base_uri": "https://localhost:8080/",
          "height": 53
        },
        "outputId": "56f91a4b-a214-49f4-dd33-28fecbf7597d"
      },
      "source": [
        "#모델 학습 결과\n",
        "score = model.evaluate(X_test, Y_test, verbose=0)\n",
        "print(model.metrics_names)\n",
        "print(score)"
      ],
      "execution_count": 27,
      "outputs": [
        {
          "output_type": "stream",
          "text": [
            "['loss', 'acc']\n",
            "[9.784496069187298e-05, 1.0]\n"
          ],
          "name": "stdout"
        }
      ]
    },
    {
      "cell_type": "code",
      "metadata": {
        "id": "HCAEXEZJsMrU",
        "colab_type": "code",
        "colab": {
          "base_uri": "https://localhost:8080/",
          "height": 279
        },
        "outputId": "8d949ee7-2fd7-4776-a608-086181972823"
      },
      "source": [
        "#DNN 모델의 학습 결과 시각화\n",
        "fig, loss_ax = plt.subplots()\n",
        "acc_ax = loss_ax.twinx()\n",
        "\n",
        "loss_ax.plot(hist.history['loss'], 'y', label='train loss')\n",
        "loss_ax.plot(hist.history['val_loss'], 'r', label='val loss')\n",
        "acc_ax.plot(hist.history['acc'], 'b', label='train acc')\n",
        "acc_ax.plot(hist.history['val_acc'], 'g', label='val acc')\n",
        "\n",
        "loss_ax.set_xlabel('epoch')\n",
        "\n",
        "loss_ax.set_ylabel('loss')\n",
        "loss_ax.legend(loc='lower right')\n",
        "\n",
        "acc_ax.set_ylabel('accuracy')\n",
        "acc_ax.legend(loc='upper right')\n",
        "\n",
        "plt.show()"
      ],
      "execution_count": 30,
      "outputs": [
        {
          "output_type": "display_data",
          "data": {
            "image/png": "[encoded data removed]",
            "text/plain": [
              "<Figure size 432x288 with 2 Axes>"
            ]
          },
          "metadata": {
            "tags": [],
            "needs_background": "light"
          }
        }
      ]
    },
    {
      "cell_type": "code",
      "metadata": {
        "id": "_WcN-_AquBZU",
        "colab_type": "code",
        "colab": {}
      },
      "source": [
        ""
      ],
      "execution_count": null,
      "outputs": []
    }
  ]
}