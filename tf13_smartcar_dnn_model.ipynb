{
  "nbformat": 4,
  "nbformat_minor": 0,
  "metadata": {
    "colab": {
      "name": "tf13_smartcar_dnn_model.ipynb",
      "provenance": [],
      "collapsed_sections": [],
      "authorship_tag": "ABX9TyMW5Q81R9HCGl3wiiKn3CYv",
      "include_colab_link": true
    },
    "kernelspec": {
      "name": "python3",
      "display_name": "Python 3"
    }
  },
  "cells": [
    {
      "cell_type": "markdown",
      "metadata": {
        "id": "view-in-github",
        "colab_type": "text"
      },
      "source": [
        "<a href=\"https://colab.research.google.com/github/tsbslteisrhy/Bigdata/blob/master/tf13_smartcar_dnn_model.ipynb\" target=\"_parent\"><img src=\"https://colab.research.google.com/assets/colab-badge.svg\" alt=\"Open In Colab\"/></a>"
      ]
    },
    {
      "cell_type": "code",
      "metadata": {
        "id": "KXHej9-MmHyu",
        "colab_type": "code",
        "colab": {}
      },
      "source": [
        "#필요한 라이브러리 임포트\n",
        "import tensorflow as tf\n",
        "import pandas as pd\n",
        "import matplotlib.pyplot as plt\n",
        "\n",
        "from time import time\n",
        "from tensorflow.python.keras.callbacks import TensorBoard\n",
        "from tensorflow import keras\n",
        "from tensorflow.keras.models import Sequential\n",
        "from tensorflow.keras.layers import Dense, Dropout\n",
        "from sklearn.preprocessing import StandardScaler\n",
        "from sklearn.model_selection import train_test_split\n",
        "from sklearn.metrics import roc_curve, roc_auc_score, auc\n",
        "from keras.utils import to_categorical\n",
        "from keras.models import load_model"
      ],
      "execution_count": 32,
      "outputs": []
    },
    {
      "cell_type": "code",
      "metadata": {
        "id": "GTvzN8N9nAzM",
        "colab_type": "code",
        "colab": {
          "base_uri": "https://localhost:8080/",
          "height": 35
        },
        "outputId": "ffa6feb9-ec0b-45d1-80b1-ee61b532f826"
      },
      "source": [
        "#구글 드라이브 연동\n",
        "from google.colab import drive\n",
        "drive.mount('/content/drive')"
      ],
      "execution_count": 33,
      "outputs": [
        {
          "output_type": "stream",
          "text": [
            "Drive already mounted at /content/drive; to attempt to forcibly remount, call drive.mount(\"/content/drive\", force_remount=True).\n"
          ],
          "name": "stdout"
        }
      ]
    },
    {
      "cell_type": "code",
      "metadata": {
        "id": "aQfk2e6qnIql",
        "colab_type": "code",
        "colab": {
          "base_uri": "https://localhost:8080/",
          "height": 419
        },
        "outputId": "ff0c8db1-38c2-4a1f-82f7-58c6eebfbb66"
      },
      "source": [
        "#데이터셋 로드\n",
        "df_train = pd.read_csv('/content/drive/My Drive/Tensorflow_works/data/CarDrivingIncidentInfo.csv')\n",
        "df"
      ],
      "execution_count": 34,
      "outputs": [
        {
          "output_type": "execute_result",
          "data": {
            "text/html": [
              "<div>\n",
              "<style scoped>\n",
              "    .dataframe tbody tr th:only-of-type {\n",
              "        vertical-align: middle;\n",
              "    }\n",
              "\n",
              "    .dataframe tbody tr th {\n",
              "        vertical-align: top;\n",
              "    }\n",
              "\n",
              "    .dataframe thead th {\n",
              "        text-align: right;\n",
              "    }\n",
              "</style>\n",
              "<table border=\"1\" class=\"dataframe\">\n",
              "  <thead>\n",
              "    <tr style=\"text-align: right;\">\n",
              "      <th></th>\n",
              "      <th>wea</th>\n",
              "      <th>temp</th>\n",
              "      <th>hum</th>\n",
              "      <th>arrCar</th>\n",
              "      <th>timeSlot</th>\n",
              "      <th>acciArea</th>\n",
              "      <th>drvCond</th>\n",
              "      <th>innCond</th>\n",
              "      <th>carSpd</th>\n",
              "      <th>steeAng</th>\n",
              "      <th>acciPos</th>\n",
              "    </tr>\n",
              "  </thead>\n",
              "  <tbody>\n",
              "    <tr>\n",
              "      <th>0</th>\n",
              "      <td>0</td>\n",
              "      <td>1</td>\n",
              "      <td>1</td>\n",
              "      <td>1</td>\n",
              "      <td>1</td>\n",
              "      <td>2</td>\n",
              "      <td>1</td>\n",
              "      <td>2</td>\n",
              "      <td>2</td>\n",
              "      <td>1</td>\n",
              "      <td>2</td>\n",
              "    </tr>\n",
              "    <tr>\n",
              "      <th>1</th>\n",
              "      <td>1</td>\n",
              "      <td>0</td>\n",
              "      <td>0</td>\n",
              "      <td>0</td>\n",
              "      <td>0</td>\n",
              "      <td>0</td>\n",
              "      <td>2</td>\n",
              "      <td>0</td>\n",
              "      <td>0</td>\n",
              "      <td>0</td>\n",
              "      <td>0</td>\n",
              "    </tr>\n",
              "    <tr>\n",
              "      <th>2</th>\n",
              "      <td>1</td>\n",
              "      <td>0</td>\n",
              "      <td>0</td>\n",
              "      <td>1</td>\n",
              "      <td>0</td>\n",
              "      <td>1</td>\n",
              "      <td>2</td>\n",
              "      <td>0</td>\n",
              "      <td>1</td>\n",
              "      <td>1</td>\n",
              "      <td>0</td>\n",
              "    </tr>\n",
              "    <tr>\n",
              "      <th>3</th>\n",
              "      <td>0</td>\n",
              "      <td>0</td>\n",
              "      <td>0</td>\n",
              "      <td>0</td>\n",
              "      <td>0</td>\n",
              "      <td>1</td>\n",
              "      <td>2</td>\n",
              "      <td>1</td>\n",
              "      <td>1</td>\n",
              "      <td>0</td>\n",
              "      <td>0</td>\n",
              "    </tr>\n",
              "    <tr>\n",
              "      <th>4</th>\n",
              "      <td>0</td>\n",
              "      <td>0</td>\n",
              "      <td>0</td>\n",
              "      <td>0</td>\n",
              "      <td>0</td>\n",
              "      <td>0</td>\n",
              "      <td>2</td>\n",
              "      <td>2</td>\n",
              "      <td>2</td>\n",
              "      <td>0</td>\n",
              "      <td>0</td>\n",
              "    </tr>\n",
              "    <tr>\n",
              "      <th>...</th>\n",
              "      <td>...</td>\n",
              "      <td>...</td>\n",
              "      <td>...</td>\n",
              "      <td>...</td>\n",
              "      <td>...</td>\n",
              "      <td>...</td>\n",
              "      <td>...</td>\n",
              "      <td>...</td>\n",
              "      <td>...</td>\n",
              "      <td>...</td>\n",
              "      <td>...</td>\n",
              "    </tr>\n",
              "    <tr>\n",
              "      <th>199995</th>\n",
              "      <td>2</td>\n",
              "      <td>0</td>\n",
              "      <td>0</td>\n",
              "      <td>1</td>\n",
              "      <td>1</td>\n",
              "      <td>2</td>\n",
              "      <td>1</td>\n",
              "      <td>1</td>\n",
              "      <td>0</td>\n",
              "      <td>0</td>\n",
              "      <td>1</td>\n",
              "    </tr>\n",
              "    <tr>\n",
              "      <th>199996</th>\n",
              "      <td>0</td>\n",
              "      <td>1</td>\n",
              "      <td>1</td>\n",
              "      <td>1</td>\n",
              "      <td>0</td>\n",
              "      <td>1</td>\n",
              "      <td>0</td>\n",
              "      <td>0</td>\n",
              "      <td>2</td>\n",
              "      <td>1</td>\n",
              "      <td>0</td>\n",
              "    </tr>\n",
              "    <tr>\n",
              "      <th>199997</th>\n",
              "      <td>1</td>\n",
              "      <td>0</td>\n",
              "      <td>2</td>\n",
              "      <td>0</td>\n",
              "      <td>1</td>\n",
              "      <td>2</td>\n",
              "      <td>2</td>\n",
              "      <td>1</td>\n",
              "      <td>2</td>\n",
              "      <td>0</td>\n",
              "      <td>2</td>\n",
              "    </tr>\n",
              "    <tr>\n",
              "      <th>199998</th>\n",
              "      <td>0</td>\n",
              "      <td>1</td>\n",
              "      <td>0</td>\n",
              "      <td>2</td>\n",
              "      <td>1</td>\n",
              "      <td>2</td>\n",
              "      <td>0</td>\n",
              "      <td>0</td>\n",
              "      <td>0</td>\n",
              "      <td>0</td>\n",
              "      <td>0</td>\n",
              "    </tr>\n",
              "    <tr>\n",
              "      <th>199999</th>\n",
              "      <td>1</td>\n",
              "      <td>0</td>\n",
              "      <td>0</td>\n",
              "      <td>1</td>\n",
              "      <td>1</td>\n",
              "      <td>1</td>\n",
              "      <td>2</td>\n",
              "      <td>2</td>\n",
              "      <td>0</td>\n",
              "      <td>0</td>\n",
              "      <td>1</td>\n",
              "    </tr>\n",
              "  </tbody>\n",
              "</table>\n",
              "<p>200000 rows × 11 columns</p>\n",
              "</div>"
            ],
            "text/plain": [
              "        wea  temp  hum  arrCar  ...  innCond  carSpd  steeAng  acciPos\n",
              "0         0     1    1       1  ...        2       2        1        2\n",
              "1         1     0    0       0  ...        0       0        0        0\n",
              "2         1     0    0       1  ...        0       1        1        0\n",
              "3         0     0    0       0  ...        1       1        0        0\n",
              "4         0     0    0       0  ...        2       2        0        0\n",
              "...     ...   ...  ...     ...  ...      ...     ...      ...      ...\n",
              "199995    2     0    0       1  ...        1       0        0        1\n",
              "199996    0     1    1       1  ...        0       2        1        0\n",
              "199997    1     0    2       0  ...        1       2        0        2\n",
              "199998    0     1    0       2  ...        0       0        0        0\n",
              "199999    1     0    0       1  ...        2       0        0        1\n",
              "\n",
              "[200000 rows x 11 columns]"
            ]
          },
          "metadata": {
            "tags": []
          },
          "execution_count": 34
        }
      ]
    },
    {
      "cell_type": "code",
      "metadata": {
        "id": "mJW8LTSur6F-",
        "colab_type": "code",
        "colab": {}
      },
      "source": [
        "#데이터 전처리\n",
        "X = df.iloc[:, :-1].values\n",
        "Y = df.iloc[:, -1].values\n",
        "\n",
        "X_train, X_test, Y_train, Y_test = train_test_split(X, Y, test_size=0.2, random_state=1)\n",
        "\n",
        "Y_train = to_categorical(Y_train)\n",
        "Y_test = to_categorical(Y_test)\n",
        "\n",
        "sc = StandardScaler()\n",
        "X_train = sc.fit_transform(X_train)\n",
        "X_test = sc.transform(X_test)"
      ],
      "execution_count": 35,
      "outputs": []
    },
    {
      "cell_type": "code",
      "metadata": {
        "id": "RD-BXyXhnd_f",
        "colab_type": "code",
        "colab": {
          "base_uri": "https://localhost:8080/",
          "height": 341
        },
        "outputId": "c00b5992-acfb-4880-d2eb-6fd9b8c2f2fa"
      },
      "source": [
        "#DNN 모델 구성 및 요약 정보 출력\n",
        "model = Sequential([\n",
        "    Dense(10, input_dim=10, activation='relu'),\n",
        "    Dense(20, activation='relu'),\n",
        "    Dropout(0.25),\n",
        "    Dense(10, activation='relu'),\n",
        "    Dense(3, activation='softmax')\n",
        "])\n",
        "model.compile(optimizer = 'adam',\n",
        "              loss = 'categorical_crossentropy',\n",
        "              metrics = ['acc'])\n",
        "\n",
        "model.summary()"
      ],
      "execution_count": 36,
      "outputs": [
        {
          "output_type": "stream",
          "text": [
            "Model: \"sequential_4\"\n",
            "_________________________________________________________________\n",
            "Layer (type)                 Output Shape              Param #   \n",
            "=================================================================\n",
            "dense_16 (Dense)             (None, 10)                110       \n",
            "_________________________________________________________________\n",
            "dense_17 (Dense)             (None, 20)                220       \n",
            "_________________________________________________________________\n",
            "dropout_4 (Dropout)          (None, 20)                0         \n",
            "_________________________________________________________________\n",
            "dense_18 (Dense)             (None, 10)                210       \n",
            "_________________________________________________________________\n",
            "dense_19 (Dense)             (None, 3)                 33        \n",
            "=================================================================\n",
            "Total params: 573\n",
            "Trainable params: 573\n",
            "Non-trainable params: 0\n",
            "_________________________________________________________________\n"
          ],
          "name": "stdout"
        }
      ]
    },
    {
      "cell_type": "code",
      "metadata": {
        "id": "HB1HJTDaocGt",
        "colab_type": "code",
        "colab": {
          "base_uri": "https://localhost:8080/",
          "height": 1000
        },
        "outputId": "9e2a7348-5319-454a-8cf7-e4d01d208a83"
      },
      "source": [
        "#DNN 모델 학습\n",
        "hist = model.fit(X_train,\n",
        "                 Y_train,\n",
        "                 batch_size=2000,\n",
        "                 epochs=50,\n",
        "                 validation_data=(X_test, Y_test))"
      ],
      "execution_count": 37,
      "outputs": [
        {
          "output_type": "stream",
          "text": [
            "Epoch 1/50\n",
            "80/80 [==============================] - 0s 5ms/step - loss: 1.1152 - acc: 0.3591 - val_loss: 0.9610 - val_acc: 0.6662\n",
            "Epoch 2/50\n",
            "80/80 [==============================] - 0s 3ms/step - loss: 0.8112 - acc: 0.6892 - val_loss: 0.5737 - val_acc: 0.7728\n",
            "Epoch 3/50\n",
            "80/80 [==============================] - 0s 3ms/step - loss: 0.4675 - acc: 0.8176 - val_loss: 0.2913 - val_acc: 0.9201\n",
            "Epoch 4/50\n",
            "80/80 [==============================] - 0s 3ms/step - loss: 0.2866 - acc: 0.8913 - val_loss: 0.1792 - val_acc: 0.9518\n",
            "Epoch 5/50\n",
            "80/80 [==============================] - 0s 3ms/step - loss: 0.2021 - acc: 0.9299 - val_loss: 0.1326 - val_acc: 0.9628\n",
            "Epoch 6/50\n",
            "80/80 [==============================] - 0s 3ms/step - loss: 0.1569 - acc: 0.9497 - val_loss: 0.1055 - val_acc: 0.9733\n",
            "Epoch 7/50\n",
            "80/80 [==============================] - 0s 3ms/step - loss: 0.1287 - acc: 0.9616 - val_loss: 0.0871 - val_acc: 0.9790\n",
            "Epoch 8/50\n",
            "80/80 [==============================] - 0s 3ms/step - loss: 0.1075 - acc: 0.9695 - val_loss: 0.0704 - val_acc: 0.9841\n",
            "Epoch 9/50\n",
            "80/80 [==============================] - 0s 3ms/step - loss: 0.0892 - acc: 0.9758 - val_loss: 0.0561 - val_acc: 0.9867\n",
            "Epoch 10/50\n",
            "80/80 [==============================] - 0s 3ms/step - loss: 0.0734 - acc: 0.9804 - val_loss: 0.0441 - val_acc: 0.9886\n",
            "Epoch 11/50\n",
            "80/80 [==============================] - 0s 3ms/step - loss: 0.0613 - acc: 0.9833 - val_loss: 0.0365 - val_acc: 0.9898\n",
            "Epoch 12/50\n",
            "80/80 [==============================] - 0s 3ms/step - loss: 0.0535 - acc: 0.9848 - val_loss: 0.0312 - val_acc: 0.9906\n",
            "Epoch 13/50\n",
            "80/80 [==============================] - 0s 3ms/step - loss: 0.0472 - acc: 0.9859 - val_loss: 0.0269 - val_acc: 0.9911\n",
            "Epoch 14/50\n",
            "80/80 [==============================] - 0s 4ms/step - loss: 0.0413 - acc: 0.9873 - val_loss: 0.0237 - val_acc: 0.9920\n",
            "Epoch 15/50\n",
            "80/80 [==============================] - 0s 3ms/step - loss: 0.0372 - acc: 0.9882 - val_loss: 0.0207 - val_acc: 0.9924\n",
            "Epoch 16/50\n",
            "80/80 [==============================] - 0s 3ms/step - loss: 0.0328 - acc: 0.9894 - val_loss: 0.0180 - val_acc: 0.9935\n",
            "Epoch 17/50\n",
            "80/80 [==============================] - 0s 3ms/step - loss: 0.0293 - acc: 0.9902 - val_loss: 0.0158 - val_acc: 0.9941\n",
            "Epoch 18/50\n",
            "80/80 [==============================] - 0s 4ms/step - loss: 0.0259 - acc: 0.9911 - val_loss: 0.0138 - val_acc: 0.9944\n",
            "Epoch 19/50\n",
            "80/80 [==============================] - 0s 3ms/step - loss: 0.0231 - acc: 0.9918 - val_loss: 0.0121 - val_acc: 0.9946\n",
            "Epoch 20/50\n",
            "80/80 [==============================] - 0s 3ms/step - loss: 0.0203 - acc: 0.9925 - val_loss: 0.0107 - val_acc: 0.9948\n",
            "Epoch 21/50\n",
            "80/80 [==============================] - 0s 3ms/step - loss: 0.0181 - acc: 0.9931 - val_loss: 0.0093 - val_acc: 0.9956\n",
            "Epoch 22/50\n",
            "80/80 [==============================] - 0s 3ms/step - loss: 0.0160 - acc: 0.9938 - val_loss: 0.0081 - val_acc: 0.9964\n",
            "Epoch 23/50\n",
            "80/80 [==============================] - 0s 3ms/step - loss: 0.0147 - acc: 0.9945 - val_loss: 0.0070 - val_acc: 0.9970\n",
            "Epoch 24/50\n",
            "80/80 [==============================] - 0s 3ms/step - loss: 0.0127 - acc: 0.9956 - val_loss: 0.0060 - val_acc: 0.9974\n",
            "Epoch 25/50\n",
            "80/80 [==============================] - 0s 3ms/step - loss: 0.0113 - acc: 0.9962 - val_loss: 0.0052 - val_acc: 0.9979\n",
            "Epoch 26/50\n",
            "80/80 [==============================] - 0s 3ms/step - loss: 0.0100 - acc: 0.9969 - val_loss: 0.0045 - val_acc: 0.9984\n",
            "Epoch 27/50\n",
            "80/80 [==============================] - 0s 3ms/step - loss: 0.0091 - acc: 0.9973 - val_loss: 0.0040 - val_acc: 0.9984\n",
            "Epoch 28/50\n",
            "80/80 [==============================] - 0s 3ms/step - loss: 0.0081 - acc: 0.9978 - val_loss: 0.0033 - val_acc: 0.9990\n",
            "Epoch 29/50\n",
            "80/80 [==============================] - 0s 3ms/step - loss: 0.0068 - acc: 0.9983 - val_loss: 0.0026 - val_acc: 0.9994\n",
            "Epoch 30/50\n",
            "80/80 [==============================] - 0s 3ms/step - loss: 0.0061 - acc: 0.9984 - val_loss: 0.0021 - val_acc: 0.9995\n",
            "Epoch 31/50\n",
            "80/80 [==============================] - 0s 3ms/step - loss: 0.0053 - acc: 0.9987 - val_loss: 0.0018 - val_acc: 0.9995\n",
            "Epoch 32/50\n",
            "80/80 [==============================] - 0s 3ms/step - loss: 0.0048 - acc: 0.9986 - val_loss: 0.0016 - val_acc: 0.9995\n",
            "Epoch 33/50\n",
            "80/80 [==============================] - 0s 3ms/step - loss: 0.0043 - acc: 0.9988 - val_loss: 0.0013 - val_acc: 0.9995\n",
            "Epoch 34/50\n",
            "80/80 [==============================] - 0s 3ms/step - loss: 0.0040 - acc: 0.9989 - val_loss: 0.0012 - val_acc: 0.9995\n",
            "Epoch 35/50\n",
            "80/80 [==============================] - 0s 3ms/step - loss: 0.0037 - acc: 0.9989 - val_loss: 0.0011 - val_acc: 0.9995\n",
            "Epoch 36/50\n",
            "80/80 [==============================] - 0s 4ms/step - loss: 0.0035 - acc: 0.9990 - val_loss: 9.1730e-04 - val_acc: 0.9995\n",
            "Epoch 37/50\n",
            "80/80 [==============================] - 0s 3ms/step - loss: 0.0034 - acc: 0.9989 - val_loss: 8.5909e-04 - val_acc: 0.9995\n",
            "Epoch 38/50\n",
            "80/80 [==============================] - 0s 4ms/step - loss: 0.0031 - acc: 0.9990 - val_loss: 7.5456e-04 - val_acc: 0.9995\n",
            "Epoch 39/50\n",
            "80/80 [==============================] - 0s 4ms/step - loss: 0.0032 - acc: 0.9989 - val_loss: 6.6138e-04 - val_acc: 0.9996\n",
            "Epoch 40/50\n",
            "80/80 [==============================] - 0s 3ms/step - loss: 0.0030 - acc: 0.9991 - val_loss: 5.5191e-04 - val_acc: 0.9997\n",
            "Epoch 41/50\n",
            "80/80 [==============================] - 0s 3ms/step - loss: 0.0028 - acc: 0.9990 - val_loss: 5.0768e-04 - val_acc: 0.9997\n",
            "Epoch 42/50\n",
            "80/80 [==============================] - 0s 3ms/step - loss: 0.0029 - acc: 0.9991 - val_loss: 4.5328e-04 - val_acc: 0.9997\n",
            "Epoch 43/50\n",
            "80/80 [==============================] - 0s 3ms/step - loss: 0.0025 - acc: 0.9992 - val_loss: 4.1744e-04 - val_acc: 0.9997\n",
            "Epoch 44/50\n",
            "80/80 [==============================] - 0s 4ms/step - loss: 0.0025 - acc: 0.9992 - val_loss: 3.9429e-04 - val_acc: 0.9997\n",
            "Epoch 45/50\n",
            "80/80 [==============================] - 0s 3ms/step - loss: 0.0024 - acc: 0.9992 - val_loss: 3.7259e-04 - val_acc: 0.9997\n",
            "Epoch 46/50\n",
            "80/80 [==============================] - 0s 3ms/step - loss: 0.0024 - acc: 0.9992 - val_loss: 3.5423e-04 - val_acc: 0.9997\n",
            "Epoch 47/50\n",
            "80/80 [==============================] - 0s 3ms/step - loss: 0.0023 - acc: 0.9991 - val_loss: 3.2523e-04 - val_acc: 0.9998\n",
            "Epoch 48/50\n",
            "80/80 [==============================] - 0s 3ms/step - loss: 0.0023 - acc: 0.9992 - val_loss: 3.1859e-04 - val_acc: 0.9998\n",
            "Epoch 49/50\n",
            "80/80 [==============================] - 0s 3ms/step - loss: 0.0023 - acc: 0.9992 - val_loss: 2.9796e-04 - val_acc: 0.9999\n",
            "Epoch 50/50\n",
            "80/80 [==============================] - 0s 3ms/step - loss: 0.0023 - acc: 0.9993 - val_loss: 2.7949e-04 - val_acc: 0.9999\n"
          ],
          "name": "stdout"
        }
      ]
    },
    {
      "cell_type": "code",
      "metadata": {
        "id": "Q9ERHY0lov_7",
        "colab_type": "code",
        "colab": {
          "base_uri": "https://localhost:8080/",
          "height": 53
        },
        "outputId": "826d99a1-4312-44de-e73f-2cfa5c682d1a"
      },
      "source": [
        "#모델 학습 결과\n",
        "score = model.evaluate(X_test, Y_test, verbose=0)\n",
        "print(model.metrics_names)\n",
        "print(score)"
      ],
      "execution_count": 38,
      "outputs": [
        {
          "output_type": "stream",
          "text": [
            "['loss', 'acc']\n",
            "[0.0002794938627630472, 0.9998999834060669]\n"
          ],
          "name": "stdout"
        }
      ]
    },
    {
      "cell_type": "code",
      "metadata": {
        "id": "HCAEXEZJsMrU",
        "colab_type": "code",
        "colab": {
          "base_uri": "https://localhost:8080/",
          "height": 279
        },
        "outputId": "7a6606ff-478b-4c8e-8a01-64f3e481efbc"
      },
      "source": [
        "#DNN 모델의 학습 결과 시각화\n",
        "fig, loss_ax = plt.subplots()\n",
        "acc_ax = loss_ax.twinx()\n",
        "\n",
        "loss_ax.plot(hist.history['loss'], 'y', label='train loss')\n",
        "loss_ax.plot(hist.history['val_loss'], 'r', label='val loss')\n",
        "acc_ax.plot(hist.history['acc'], 'b', label='train acc')\n",
        "acc_ax.plot(hist.history['val_acc'], 'g', label='val acc')\n",
        "\n",
        "loss_ax.set_xlabel('epoch')\n",
        "\n",
        "loss_ax.set_ylabel('loss')\n",
        "loss_ax.legend(loc='lower right')\n",
        "\n",
        "acc_ax.set_ylabel('accuracy')\n",
        "acc_ax.legend(loc='upper right')\n",
        "\n",
        "plt.show()"
      ],
      "execution_count": 39,
      "outputs": [
        {
          "output_type": "display_data",
          "data": {
            "image/png": "[encoded data removed]",
            "text/plain": [
              "<Figure size 432x288 with 2 Axes>"
            ]
          },
          "metadata": {
            "tags": [],
            "needs_background": "light"
          }
        }
      ]
    },
    {
      "cell_type": "code",
      "metadata": {
        "id": "_WcN-_AquBZU",
        "colab_type": "code",
        "colab": {
          "base_uri": "https://localhost:8080/",
          "height": 35
        },
        "outputId": "45c293e0-f515-406b-c1f8-cfad699bbff7"
      },
      "source": [
        "#모델 저장\n",
        "model.save('/content/drive/My Drive/Tensorflow_works/smartcar_model')"
      ],
      "execution_count": 40,
      "outputs": [
        {
          "output_type": "stream",
          "text": [
            "INFO:tensorflow:Assets written to: /content/drive/My Drive/Tensorflow_works/smartcar_model/assets\n"
          ],
          "name": "stdout"
        }
      ]
    },
    {
      "cell_type": "code",
      "metadata": {
        "id": "uIxUEWvsxZ8_",
        "colab_type": "code",
        "colab": {}
      },
      "source": [
        ""
      ],
      "execution_count": null,
      "outputs": []
    }
  ]
}