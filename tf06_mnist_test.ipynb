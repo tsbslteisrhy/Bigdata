{
  "nbformat": 4,
  "nbformat_minor": 0,
  "metadata": {
    "colab": {
      "name": "tf06_mnist_test.ipynb",
      "provenance": [],
      "collapsed_sections": [],
      "authorship_tag": "ABX9TyMGYE4QsV4/0t8Vv9zx2xy4",
      "include_colab_link": true
    },
    "kernelspec": {
      "name": "python3",
      "display_name": "Python 3"
    }
  },
  "cells": [
    {
      "cell_type": "markdown",
      "metadata": {
        "id": "view-in-github",
        "colab_type": "text"
      },
      "source": [
        "<a href=\"https://colab.research.google.com/github/tsbslteisrhy/Bigdata/blob/master/tf06_mnist_test.ipynb\" target=\"_parent\"><img src=\"https://colab.research.google.com/assets/colab-badge.svg\" alt=\"Open In Colab\"/></a>"
      ]
    },
    {
      "cell_type": "code",
      "metadata": {
        "id": "QqZs723RG1R1",
        "colab_type": "code",
        "colab": {}
      },
      "source": [
        "\"\"\"\n",
        "날짜 : 2020/08/19\n",
        "이름 : 유효진\n",
        "내용 : 딥러닝 mnist 이미지 분류 실습하기\n",
        "\"\"\"\n",
        "import matplotlib.pyplot as plt\n",
        "import numpy as np\n",
        "from tensorflow.keras.datasets.mnist import load_data\n",
        "from tensorflow.keras.utils import to_categorical\n",
        "from tensorflow.keras.models import Sequential\n",
        "from tensorflow.keras.layers import Dense, Flatten\n",
        "from sklearn.model_selection import train_test_split\n",
        "from PIL import Image #파이썬 이미지 처리 라이브러리"
      ],
      "execution_count": 107,
      "outputs": []
    },
    {
      "cell_type": "code",
      "metadata": {
        "id": "qRlfDpIWH0iW",
        "colab_type": "code",
        "colab": {
          "base_uri": "https://localhost:8080/",
          "height": 35
        },
        "outputId": "ac81516f-d416-49ff-d99a-dcd506fd8fd0"
      },
      "source": [
        "#구글드라이브 연동\n",
        "from google.colab import drive\n",
        "drive.mount('/content/drive')"
      ],
      "execution_count": 108,
      "outputs": [
        {
          "output_type": "stream",
          "text": [
            "Drive already mounted at /content/drive; to attempt to forcibly remount, call drive.mount(\"/content/drive\", force_remount=True).\n"
          ],
          "name": "stdout"
        }
      ]
    },
    {
      "cell_type": "code",
      "metadata": {
        "id": "vxTayoVKI8k1",
        "colab_type": "code",
        "colab": {
          "base_uri": "https://localhost:8080/",
          "height": 719
        },
        "outputId": "52634aa1-48f9-49f4-923d-ade598e4774a"
      },
      "source": [
        "#구글드라이브 이미지 로드하기\n",
        "img1 = Image.open('/content/drive/My Drive/Tensorflow_works/data/mnist_img1.jpg')\n",
        "img2 = Image.open('/content/drive/My Drive/Tensorflow_works/data/mnist_img2.jpg')\n",
        "img3 = Image.open('/content/drive/My Drive/Tensorflow_works/data/mnist_img3.jpg')\n",
        "img4 = Image.open('/content/drive/My Drive/Tensorflow_works/data/mnist_img4.jpg')\n",
        "img5 = Image.open('/content/drive/My Drive/Tensorflow_works/data/mnist_img5.jpg')\n",
        "\n",
        "#이미지 파일의 픽셀값 추출\n",
        "img1_px = np.array(img1)\n",
        "img2_px = np.array(img2)\n",
        "img3_px = np.array(img3)\n",
        "img4_px = np.array(img4)\n",
        "img5_px = np.array(img5)\n",
        "\n",
        "img_arr = np.array([img1_px, img2_px, img3_px, img4_px, img5_px])\n",
        "img_arr = img_arr / 255.0\n",
        "img_arr"
      ],
      "execution_count": 109,
      "outputs": [
        {
          "output_type": "execute_result",
          "data": {
            "text/plain": [
              "array([[[0., 0., 0., ..., 0., 0., 0.],\n",
              "        [0., 0., 0., ..., 0., 0., 0.],\n",
              "        [0., 0., 0., ..., 0., 0., 0.],\n",
              "        ...,\n",
              "        [0., 0., 0., ..., 0., 0., 0.],\n",
              "        [0., 0., 0., ..., 0., 0., 0.],\n",
              "        [0., 0., 0., ..., 0., 0., 0.]],\n",
              "\n",
              "       [[0., 0., 0., ..., 0., 0., 0.],\n",
              "        [0., 0., 0., ..., 0., 0., 0.],\n",
              "        [0., 0., 0., ..., 0., 0., 0.],\n",
              "        ...,\n",
              "        [0., 0., 0., ..., 0., 0., 0.],\n",
              "        [0., 0., 0., ..., 0., 0., 0.],\n",
              "        [0., 0., 0., ..., 0., 0., 0.]],\n",
              "\n",
              "       [[0., 0., 0., ..., 0., 0., 0.],\n",
              "        [0., 0., 0., ..., 0., 0., 0.],\n",
              "        [0., 0., 0., ..., 0., 0., 0.],\n",
              "        ...,\n",
              "        [0., 0., 0., ..., 0., 0., 0.],\n",
              "        [0., 0., 0., ..., 0., 0., 0.],\n",
              "        [0., 0., 0., ..., 0., 0., 0.]],\n",
              "\n",
              "       [[0., 0., 0., ..., 0., 0., 0.],\n",
              "        [0., 0., 0., ..., 0., 0., 0.],\n",
              "        [0., 0., 0., ..., 0., 0., 0.],\n",
              "        ...,\n",
              "        [0., 0., 0., ..., 0., 0., 0.],\n",
              "        [0., 0., 0., ..., 0., 0., 0.],\n",
              "        [0., 0., 0., ..., 0., 0., 0.]],\n",
              "\n",
              "       [[0., 0., 0., ..., 0., 0., 0.],\n",
              "        [0., 0., 0., ..., 0., 0., 0.],\n",
              "        [0., 0., 0., ..., 0., 0., 0.],\n",
              "        ...,\n",
              "        [0., 0., 0., ..., 0., 0., 0.],\n",
              "        [0., 0., 0., ..., 0., 0., 0.],\n",
              "        [0., 0., 0., ..., 0., 0., 0.]]])"
            ]
          },
          "metadata": {
            "tags": []
          },
          "execution_count": 109
        }
      ]
    },
    {
      "cell_type": "code",
      "metadata": {
        "id": "iJ-88FBPJN1D",
        "colab_type": "code",
        "colab": {
          "base_uri": "https://localhost:8080/",
          "height": 71
        },
        "outputId": "62e57b4c-6705-4133-caec-57304d8ddfaa"
      },
      "source": [
        "#학습데이터 로드 (fit: 60000개/predict:10000개 데이터 분할)\n",
        "(mnist_train_data, mnist_train_label), (mnist_test_data, mnist_test_label) = load_data()\n",
        "\n",
        "#데이터 형태 확인\n",
        "print(mnist_train_data.shape, mnist_train_label.shape)\n",
        "print(mnist_test_data.shape, mnist_test_label.shape)\n",
        "print(mnist_train_label)"
      ],
      "execution_count": 110,
      "outputs": [
        {
          "output_type": "stream",
          "text": [
            "(60000, 28, 28) (60000,)\n",
            "(10000, 28, 28) (10000,)\n",
            "[5 0 4 ... 5 6 8]\n"
          ],
          "name": "stdout"
        }
      ]
    },
    {
      "cell_type": "code",
      "metadata": {
        "id": "z5pSxmbzKZnq",
        "colab_type": "code",
        "colab": {
          "base_uri": "https://localhost:8080/",
          "height": 244
        },
        "outputId": "64ca7713-57c6-4311-a4c8-9f3149e87fa3"
      },
      "source": [
        "#데이터 샘플 이미지 출력\n",
        "random_idx = np.random.randint(60000, size=5)\n",
        "print(random_idx)\n",
        "\n",
        "plt.figure(figsize=(5, 5))\n",
        "\n",
        "for i, idx in enumerate(random_idx):\n",
        "  plt.subplot(3, 3, i+1)\n",
        "  plt.xticks([]) #좌표 제거\n",
        "  plt.yticks([]) #좌표 제거\n",
        "  label = mnist_train_label[idx]\n",
        "  plt.imshow(mnist_train_data[idx, :])\n",
        "  plt.title('number is %d' % label)"
      ],
      "execution_count": 111,
      "outputs": [
        {
          "output_type": "stream",
          "text": [
            "[13436 42936 36248 28981 58804]\n"
          ],
          "name": "stdout"
        },
        {
          "output_type": "display_data",
          "data": {
            "image/png": "[encoded data removed]",
            "text/plain": [
              "<Figure size 360x360 with 5 Axes>"
            ]
          },
          "metadata": {
            "tags": []
          }
        }
      ]
    },
    {
      "cell_type": "code",
      "metadata": {
        "id": "m-2KzRmHLdLg",
        "colab_type": "code",
        "colab": {
          "base_uri": "https://localhost:8080/",
          "height": 53
        },
        "outputId": "8993c51e-d1f9-46bd-fd40-9c7891306c3b"
      },
      "source": [
        "#데이터셋 분할하기\n",
        "train_data, test_data, train_label, test_label = train_test_split(mnist_train_data, mnist_train_label)\n",
        "print('훈련 데이터 :', train_data.shape)\n",
        "print('검증 데이터 :', test_data.shape)"
      ],
      "execution_count": 112,
      "outputs": [
        {
          "output_type": "stream",
          "text": [
            "훈련 데이터 : (45000, 28, 28)\n",
            "검증 데이터 : (15000, 28, 28)\n"
          ],
          "name": "stdout"
        }
      ]
    },
    {
      "cell_type": "code",
      "metadata": {
        "id": "HTR8CofrODBI",
        "colab_type": "code",
        "colab": {}
      },
      "source": [
        "#모델학습을 위한 데이터 전처리(정규화)\n",
        "train_data = train_data / 255             #2차원(28 * 28)\n",
        "test_data = test_data / 255               #2차원(28 * 28)\n",
        "mnist_test_data = mnist_test_data / 255\n",
        "\n",
        "#각 데이터의 레이블을 범주형(One-hot encoding) 형태로 변환\n",
        "train_label = to_categorical(train_label)\n",
        "test_label = to_categorical(test_label)\n",
        "mnist_test_label = to_categorical(mnist_test_label) "
      ],
      "execution_count": 113,
      "outputs": []
    },
    {
      "cell_type": "code",
      "metadata": {
        "id": "dJERPjN1On7A",
        "colab_type": "code",
        "colab": {}
      },
      "source": [
        "#학습모델 구성하기\n",
        "model = Sequential()\n",
        "model.add(Flatten(input_shape=(28, 28)))   #입력층\n",
        "model.add(Dense(64, activation='relu'))    #은닉층\n",
        "model.add(Dense(32, activation='relu'))    #은닉층\n",
        "model.add(Dense(10, activation='softmax')) #출력층"
      ],
      "execution_count": 114,
      "outputs": []
    },
    {
      "cell_type": "code",
      "metadata": {
        "id": "uS8tVRSPP-Sv",
        "colab_type": "code",
        "colab": {}
      },
      "source": [
        "#학습모델 설정하기\n",
        "model.compile(optimizer='adam',\n",
        "              loss='categorical_crossentropy',\n",
        "              metrics=['acc'])"
      ],
      "execution_count": 115,
      "outputs": []
    },
    {
      "cell_type": "code",
      "metadata": {
        "id": "p-3dCIQ6QPFv",
        "colab_type": "code",
        "colab": {
          "base_uri": "https://localhost:8080/",
          "height": 1000
        },
        "outputId": "f4ee6924-da0c-471a-ceca-c8be32eb8a2f"
      },
      "source": [
        "#학습하기 : 45000개 데이터로 훈련하면서 동시에 15000개 데이터로 검증\n",
        "model.fit(train_data,\n",
        "          train_label,\n",
        "          epochs=30,\n",
        "          batch_size=128, #배치사이즈는 2의 차수로 설정하면 좋게 나온다고 함\n",
        "          validation_data=(test_data, test_label))"
      ],
      "execution_count": 116,
      "outputs": [
        {
          "output_type": "stream",
          "text": [
            "Epoch 1/30\n",
            "352/352 [==============================] - 1s 3ms/step - loss: 0.4919 - acc: 0.8577 - val_loss: 0.2384 - val_acc: 0.9315\n",
            "Epoch 2/30\n",
            "352/352 [==============================] - 1s 3ms/step - loss: 0.2085 - acc: 0.9414 - val_loss: 0.1779 - val_acc: 0.9490\n",
            "Epoch 3/30\n",
            "352/352 [==============================] - 1s 3ms/step - loss: 0.1592 - acc: 0.9543 - val_loss: 0.1604 - val_acc: 0.9542\n",
            "Epoch 4/30\n",
            "352/352 [==============================] - 1s 3ms/step - loss: 0.1309 - acc: 0.9624 - val_loss: 0.1437 - val_acc: 0.9581\n",
            "Epoch 5/30\n",
            "352/352 [==============================] - 1s 3ms/step - loss: 0.1097 - acc: 0.9683 - val_loss: 0.1244 - val_acc: 0.9639\n",
            "Epoch 6/30\n",
            "352/352 [==============================] - 1s 3ms/step - loss: 0.0937 - acc: 0.9723 - val_loss: 0.1200 - val_acc: 0.9640\n",
            "Epoch 7/30\n",
            "352/352 [==============================] - 1s 3ms/step - loss: 0.0806 - acc: 0.9764 - val_loss: 0.1162 - val_acc: 0.9657\n",
            "Epoch 8/30\n",
            "352/352 [==============================] - 1s 3ms/step - loss: 0.0708 - acc: 0.9791 - val_loss: 0.1134 - val_acc: 0.9664\n",
            "Epoch 9/30\n",
            "352/352 [==============================] - 1s 3ms/step - loss: 0.0614 - acc: 0.9820 - val_loss: 0.1119 - val_acc: 0.9675\n",
            "Epoch 10/30\n",
            "352/352 [==============================] - 1s 3ms/step - loss: 0.0560 - acc: 0.9833 - val_loss: 0.1177 - val_acc: 0.9669\n",
            "Epoch 11/30\n",
            "352/352 [==============================] - 1s 3ms/step - loss: 0.0484 - acc: 0.9852 - val_loss: 0.1125 - val_acc: 0.9683\n",
            "Epoch 12/30\n",
            "352/352 [==============================] - 1s 3ms/step - loss: 0.0425 - acc: 0.9877 - val_loss: 0.1155 - val_acc: 0.9679\n",
            "Epoch 13/30\n",
            "352/352 [==============================] - 1s 3ms/step - loss: 0.0373 - acc: 0.9894 - val_loss: 0.1060 - val_acc: 0.9705\n",
            "Epoch 14/30\n",
            "352/352 [==============================] - 1s 3ms/step - loss: 0.0329 - acc: 0.9903 - val_loss: 0.1097 - val_acc: 0.9697\n",
            "Epoch 15/30\n",
            "352/352 [==============================] - 1s 3ms/step - loss: 0.0299 - acc: 0.9916 - val_loss: 0.1109 - val_acc: 0.9701\n",
            "Epoch 16/30\n",
            "352/352 [==============================] - 1s 3ms/step - loss: 0.0265 - acc: 0.9925 - val_loss: 0.1146 - val_acc: 0.9692\n",
            "Epoch 17/30\n",
            "352/352 [==============================] - 1s 3ms/step - loss: 0.0240 - acc: 0.9932 - val_loss: 0.1150 - val_acc: 0.9701\n",
            "Epoch 18/30\n",
            "352/352 [==============================] - 1s 3ms/step - loss: 0.0202 - acc: 0.9947 - val_loss: 0.1164 - val_acc: 0.9705\n",
            "Epoch 19/30\n",
            "352/352 [==============================] - 1s 3ms/step - loss: 0.0186 - acc: 0.9950 - val_loss: 0.1144 - val_acc: 0.9712\n",
            "Epoch 20/30\n",
            "352/352 [==============================] - 1s 3ms/step - loss: 0.0177 - acc: 0.9952 - val_loss: 0.1177 - val_acc: 0.9703\n",
            "Epoch 21/30\n",
            "352/352 [==============================] - 1s 3ms/step - loss: 0.0146 - acc: 0.9962 - val_loss: 0.1207 - val_acc: 0.9707\n",
            "Epoch 22/30\n",
            "352/352 [==============================] - 1s 3ms/step - loss: 0.0122 - acc: 0.9969 - val_loss: 0.1223 - val_acc: 0.9715\n",
            "Epoch 23/30\n",
            "352/352 [==============================] - 1s 3ms/step - loss: 0.0137 - acc: 0.9962 - val_loss: 0.1374 - val_acc: 0.9689\n",
            "Epoch 24/30\n",
            "352/352 [==============================] - 1s 3ms/step - loss: 0.0108 - acc: 0.9974 - val_loss: 0.1306 - val_acc: 0.9701\n",
            "Epoch 25/30\n",
            "352/352 [==============================] - 1s 3ms/step - loss: 0.0097 - acc: 0.9978 - val_loss: 0.1334 - val_acc: 0.9706\n",
            "Epoch 26/30\n",
            "352/352 [==============================] - 1s 4ms/step - loss: 0.0091 - acc: 0.9977 - val_loss: 0.1340 - val_acc: 0.9700\n",
            "Epoch 27/30\n",
            "352/352 [==============================] - 1s 4ms/step - loss: 0.0070 - acc: 0.9983 - val_loss: 0.1423 - val_acc: 0.9703\n",
            "Epoch 28/30\n",
            "352/352 [==============================] - 2s 4ms/step - loss: 0.0076 - acc: 0.9982 - val_loss: 0.1398 - val_acc: 0.9707\n",
            "Epoch 29/30\n",
            "352/352 [==============================] - 1s 4ms/step - loss: 0.0074 - acc: 0.9981 - val_loss: 0.1556 - val_acc: 0.9694\n",
            "Epoch 30/30\n",
            "352/352 [==============================] - 2s 4ms/step - loss: 0.0080 - acc: 0.9978 - val_loss: 0.1551 - val_acc: 0.9695\n"
          ],
          "name": "stdout"
        },
        {
          "output_type": "execute_result",
          "data": {
            "text/plain": [
              "<tensorflow.python.keras.callbacks.History at 0x7f6c9a944518>"
            ]
          },
          "metadata": {
            "tags": []
          },
          "execution_count": 116
        }
      ]
    },
    {
      "cell_type": "code",
      "metadata": {
        "id": "Mi_kv5qnQran",
        "colab_type": "code",
        "colab": {
          "base_uri": "https://localhost:8080/",
          "height": 53
        },
        "outputId": "a71f745c-7de3-4ece-84ce-bdb09ca236c9"
      },
      "source": [
        "#평가하기\n",
        "model.evaluate(mnist_test_data, mnist_test_label)"
      ],
      "execution_count": 117,
      "outputs": [
        {
          "output_type": "stream",
          "text": [
            "313/313 [==============================] - 0s 1ms/step - loss: 0.1468 - acc: 0.9742\n"
          ],
          "name": "stdout"
        },
        {
          "output_type": "execute_result",
          "data": {
            "text/plain": [
              "[0.14684514701366425, 0.9742000102996826]"
            ]
          },
          "metadata": {
            "tags": []
          },
          "execution_count": 117
        }
      ]
    },
    {
      "cell_type": "code",
      "metadata": {
        "id": "rA73c3opQ-K3",
        "colab_type": "code",
        "colab": {
          "base_uri": "https://localhost:8080/",
          "height": 143
        },
        "outputId": "08eb4bf9-a726-4045-eda1-d6457949c4c3"
      },
      "source": [
        "#테스트하기\n",
        "result = model.predict(mnist_test_data)\n",
        "result.round()\n",
        "\n",
        "from sklearn.metrics import accuracy_score\n",
        "score = accuracy_score(result.round(), mnist_test_label)\n",
        "print('점수 :', score)\n",
        "\n",
        "final_result = model.predict(img_arr)\n",
        "print('final_result')\n",
        "print(final_result.round())"
      ],
      "execution_count": 118,
      "outputs": [
        {
          "output_type": "stream",
          "text": [
            "점수 : 0.9736\n",
            "final_result\n",
            "[[0. 1. 0. 0. 0. 0. 0. 0. 0. 0.]\n",
            " [0. 0. 1. 0. 0. 0. 0. 0. 0. 0.]\n",
            " [0. 0. 0. 1. 0. 0. 0. 0. 0. 0.]\n",
            " [0. 0. 0. 0. 1. 0. 0. 0. 0. 0.]\n",
            " [0. 0. 0. 0. 0. 1. 0. 0. 0. 0.]]\n"
          ],
          "name": "stdout"
        }
      ]
    }
  ]
}